{
 "cells": [
  {
   "cell_type": "markdown",
   "id": "1677a5b3-d533-472e-85e6-c609fb3daff6",
   "metadata": {},
   "source": [
    "# Coding with Pandas, Matplotlib and Sklearn"
   ]
  },
  {
   "cell_type": "markdown",
   "id": "4033f6fe-6afa-4374-92ff-c8a01372e650",
   "metadata": {},
   "source": [
    "Aim of this notebook is to learn about the coding system, hierarchy, clustering in the medical field with using different python libraries.\n",
    "\n",
    "These reference documentation may help:\n",
    "1. <a href=\"https://pandas.pydata.org/docs/\">Pandas</a> and <a href=\"https://numpy.org/doc/1.24/\">NumPy</a>\n",
    "    1. [Pandas 10 minute introduction](https://pandas.pydata.org/docs/user_guide/10min.html) \n",
    "    2. [NumPy for absolute beginners](https://numpy.org/doc/stable/user/absolute_beginners.html), read until the section on [Creating Matrices](https://numpy.org/doc/stable/user/absolute_beginners.html#creating-matrices)\n",
    "2. <a href=\"https://matplotlib.org/stable/index.html\">Matplotlib</a> \n",
    "    1. [Pyplot Tutorial](https://matplotlib.org/stable/tutorials/introductory/pyplot.html#sphx-glr-tutorials-introductory-pyplot-py)\n",
    "3. Coding System: <a href=\"https://icd.who.int/browse10/2019/en#/\">ICD-10</a> \n",
    "4. Clustering: <a href=\"https://scikit-learn.org/stable/modules/generated/sklearn.cluster.KMeans.html\">K-means Sklearn</a> || <a href=\"https://en.wikipedia.org/wiki/K-means_clustering\">K-means Wikipedia</a>\n",
    "    1. [Kaggle Clustering with K-means](https://www.kaggle.com/code/ryanholbrook/clustering-with-k-means)"
   ]
  },
  {
   "cell_type": "markdown",
   "id": "d5251357-a7d1-4067-9234-7c505bb8ad2a",
   "metadata": {
    "tags": []
   },
   "source": [
    "***Run the initial setup script below for initial setup***"
   ]
  },
  {
   "cell_type": "code",
   "execution_count": null,
   "id": "61afddaa-6df9-4ba0-b313-82a67f91610d",
   "metadata": {},
   "outputs": [],
   "source": [
    "# Initial Setup Script\n",
    "import warnings\n",
    "warnings.filterwarnings(\"ignore\")\n",
    "from lab_2 import *\n",
    "import pandas as pd\n",
    "from IPython.display import display\n",
    "from sklearn.preprocessing import LabelEncoder\n",
    "from sklearn.preprocessing import OneHotEncoder\n",
    "from sklearn.feature_extraction.text import CountVectorizer\n",
    "import matplotlib.pyplot as plt\n",
    "import numpy as np\n",
    "from mpl_toolkits.mplot3d import Axes3D\n",
    "from sklearn.cluster import KMeans\n",
    "\n",
    "print(\"Setup complete.\")"
   ]
  },
  {
   "cell_type": "code",
   "execution_count": null,
   "id": "3c52119d-d619-4159-bdd7-287ebc23508c",
   "metadata": {},
   "outputs": [],
   "source": []
  },
  {
   "cell_type": "markdown",
   "id": "16a0bee5-642c-42c4-a0a5-499017ef6472",
   "metadata": {},
   "source": [
    "#### ***Warm Up***"
   ]
  },
  {
   "cell_type": "markdown",
   "id": "5165b2f9-3b66-4b83-adcc-b86c4a2f4ab6",
   "metadata": {},
   "source": [
    "***Warm Up: 1***"
   ]
  },
  {
   "cell_type": "markdown",
   "id": "1ed77971-d175-4ccb-8bb5-e9b3ecf55280",
   "metadata": {},
   "source": [
    "Create a DataFrame called `icd_codes` that consists of columns `ICD Code` and `Name`. Include two rows containing `C000` and `D104` as ICD codes, those ICD codes have `External upper lip` and `Tonsil` as their names respectively. The DataFrame should look like: \n",
    "\n",
    "|       | ICD Code | Name               |\n",
    "| ----- | -------- | ------------------ |\n",
    "| **0** | C000     | External upper lip |\n",
    "| **1** | D104     | Tonsil             |\n",
    "\n"
   ]
  },
  {
   "cell_type": "code",
   "execution_count": null,
   "id": "ccf7f3b5-569f-4c8b-b419-7726ca8183eb",
   "metadata": {},
   "outputs": [],
   "source": [
    "# TODO: Your code goes here.\n",
    "icd_codes = _____\n",
    "\n",
    "# Check your answer\n",
    "w1_check(icd_codes)\n",
    "icd_codes"
   ]
  },
  {
   "cell_type": "code",
   "execution_count": null,
   "id": "283c5873-53bc-4e11-9688-62cf8a87b270",
   "metadata": {},
   "outputs": [],
   "source": [
    "#view one of the possible answers\n",
    "w1_solution()"
   ]
  },
  {
   "cell_type": "markdown",
   "id": "d91f98a1-d1fc-4668-909b-146e512a5d2b",
   "metadata": {},
   "source": [
    "***Warm Up: 2***"
   ]
  },
  {
   "cell_type": "markdown",
   "id": "e7d6cbdb-e166-4460-9ae2-a1d786de8652",
   "metadata": {},
   "source": [
    "Create a DataFrame called `icd_codes` that consists of columns `ICD Code` and `Count`. Include two rows containing `C000` and `D104` as ICD codes, those ICD codes have `4` and `6` as count value respectively. The DataFrame should look like:\n",
    "\n",
    "|         | ICD Code | Count |\n",
    "| ------- | -------- | ----- |\n",
    "| **0**   | C000     | 4     |\n",
    "| **1**   | D104     | 6     | \n",
    "\n",
    "We will use this DataFrame to create a barplot."
   ]
  },
  {
   "cell_type": "code",
   "execution_count": null,
   "id": "232f916d-d7f2-410a-ad0d-63f56438489b",
   "metadata": {},
   "outputs": [],
   "source": [
    "# TODO: Your code goes here.\n",
    "icd_codes = _____\n",
    "\n",
    "# Check your answer\n",
    "icd_codes.plot.bar(x=\"ICD Code\", y=\"Count\")\n",
    "plt.show()\n",
    "w2_check()"
   ]
  },
  {
   "cell_type": "code",
   "execution_count": null,
   "id": "ae61cc85-60c0-448d-a94f-94e9c721c7a9",
   "metadata": {},
   "outputs": [],
   "source": [
    "# View one of the possible answers\n",
    "w2_solution()"
   ]
  },
  {
   "cell_type": "markdown",
   "id": "cd942e04-3842-40bc-a5ee-2a88411f8e27",
   "metadata": {},
   "source": [
    "***Warm Up: 3***"
   ]
  },
  {
   "cell_type": "markdown",
   "id": "8e56913f-5813-4d77-8b81-ae6d2781919a",
   "metadata": {},
   "source": [
    "Find the ICD-10 code for the `Tuberculosis of lung, confirmed by culture only`. You can look up the ICD-10 code [here](https://icd.who.int/browse10/2019/en#/). Submit your answer below in capital letters excluding the dot(.) between ICD code (Example:`B653`):"
   ]
  },
  {
   "cell_type": "code",
   "execution_count": null,
   "id": "c75010cc-0d33-4458-988e-9b9b6592380f",
   "metadata": {},
   "outputs": [],
   "source": [
    "icd_code = input(\"Enter your answer here: \")\n",
    "\n",
    "# Check your answer\n",
    "w3_check(icd_code)"
   ]
  },
  {
   "cell_type": "code",
   "execution_count": null,
   "id": "f91b766e-4482-4554-9009-692286de7305",
   "metadata": {},
   "outputs": [],
   "source": [
    "# View one of the possible answers\n",
    "w3_solution()"
   ]
  },
  {
   "cell_type": "markdown",
   "id": "a5938507-360e-445d-859f-32cffd9a6a9f",
   "metadata": {},
   "source": [
    "***Warm up: 4 - Just for Looking: Real-World Dataset Overview***"
   ]
  },
  {
   "cell_type": "markdown",
   "id": "d0e425d4-7b9f-42fa-9788-8501e6963a6a",
   "metadata": {},
   "source": [
    "Here we can see the rows and columns how the first 10 rows of our dataset looks like. By calling a custom made `datasetOverview()`. This is a command made specifically for this notebook. Run it and understand/analyze the output and data"
   ]
  },
  {
   "cell_type": "code",
   "execution_count": null,
   "id": "0331e0a4-3ad0-4f82-81e5-263e85e98049",
   "metadata": {},
   "outputs": [],
   "source": [
    "# Get an overview of the dataset\n",
    "datasetOverview()"
   ]
  },
  {
   "cell_type": "markdown",
   "id": "bc6988ed-a2c5-4feb-b381-cb16c359563e",
   "metadata": {
    "tags": []
   },
   "source": [
    "<hr>\n",
    "<hr>\n",
    "<hr>\n",
    "<hr>"
   ]
  },
  {
   "cell_type": "markdown",
   "id": "1a62f620-4681-4f9f-b201-34a6a0a1bc32",
   "metadata": {},
   "source": [
    "## Tasks\n",
    "***For the tasks use the DataFrame `DATA_4`***"
   ]
  },
  {
   "cell_type": "markdown",
   "id": "bd81e9b7-5652-4294-8add-2e51196eeccb",
   "metadata": {
    "tags": []
   },
   "source": [
    "<hr>\n",
    "<hr>"
   ]
  },
  {
   "cell_type": "code",
   "execution_count": null,
   "id": "3e278131-2a8c-4f65-a084-74a30792f2be",
   "metadata": {},
   "outputs": [],
   "source": [
    "# Searching ICD /Diagnosis codes and Disease\n",
    "https://icd.who.int/browse10/2010/en\n",
    "https://finnkode.ehelse.no/#icd10/0/0/0/-1"
   ]
  },
  {
   "cell_type": "markdown",
   "id": "da7113c0-00b2-48a1-abda-87c50917e90b",
   "metadata": {},
   "source": [
    "##### Task 1"
   ]
  },
  {
   "cell_type": "markdown",
   "id": "4324daa1-c7c3-4f8c-a407-8c4065a21c53",
   "metadata": {
    "tags": []
   },
   "source": [
    "Find the correct ICD code for the following condition?\n",
    "\n",
    "You can look up the ICD-10 code [here](https://icd.who.int/browse10/2019/en#/). Submit your answer below in capital letters excluding the dot(.) between ICD code (Example:B653):"
   ]
  },
  {
   "cell_type": "code",
   "execution_count": null,
   "id": "33502bf4-fa9c-4e4d-bb66-77c099c231ec",
   "metadata": {
    "tags": []
   },
   "outputs": [],
   "source": [
    "#Run it and provid the ICD code as input\n",
    "print(\"For: Iron deficiency anaemia\")\n",
    "icd_code = input(\"Enter corresponding ICD code: \")\n",
    "t1_check(icd_code)"
   ]
  },
  {
   "cell_type": "code",
   "execution_count": null,
   "id": "d91ccecc-110a-4eb6-93de-845c0214bd57",
   "metadata": {
    "tags": []
   },
   "outputs": [],
   "source": [
    "#view answer\n",
    "t1_solution()"
   ]
  },
  {
   "cell_type": "markdown",
   "id": "9d8f9b4a-2c0a-4fbd-98bc-84d54af67146",
   "metadata": {
    "tags": []
   },
   "source": [
    "<hr>"
   ]
  },
  {
   "cell_type": "markdown",
   "id": "c3e2800d-ca7c-4fdb-8ddd-2e4fe1ef1122",
   "metadata": {
    "tags": []
   },
   "source": [
    "##### Task 2"
   ]
  },
  {
   "cell_type": "markdown",
   "id": "88d02d60-cbf9-4e42-a532-20426d5dd85c",
   "metadata": {
    "tags": []
   },
   "source": [
    "Find the correct ICD code for the following condition?\n",
    "\n",
    "You can look up the ICD-10 code [here](https://icd.who.int/browse10/2019/en#/). Submit your answer below in capital letters excluding the dot(.) between ICD code (Example:B653):"
   ]
  },
  {
   "cell_type": "code",
   "execution_count": null,
   "id": "b6b4c36a-baf9-431c-8fb5-c26ce446b763",
   "metadata": {
    "tags": []
   },
   "outputs": [],
   "source": [
    "#Run it and provid the ICD code as input\n",
    "print(\"For: Cutaneous abscess, furuncle and carbuncle\")\n",
    "icd_code = input(\"Enter corresponding ICD code: \")\n",
    "t2_check(icd_code)"
   ]
  },
  {
   "cell_type": "code",
   "execution_count": null,
   "id": "785cbdad-eb2e-4b4e-9c0d-a724f5c69319",
   "metadata": {
    "tags": []
   },
   "outputs": [],
   "source": [
    "#view answer\n",
    "t2_solution()"
   ]
  },
  {
   "cell_type": "markdown",
   "id": "1ad3d32a-565f-40e7-94e5-cadf6c1d0c38",
   "metadata": {},
   "source": [
    "<hr>"
   ]
  },
  {
   "cell_type": "markdown",
   "id": "7fb092e4-fc00-4ea7-9edf-3f489eeae7f9",
   "metadata": {
    "tags": []
   },
   "source": [
    "##### Task 3"
   ]
  },
  {
   "cell_type": "markdown",
   "id": "b79b7817-8976-42df-bbb1-01d94f2c0b10",
   "metadata": {
    "tags": []
   },
   "source": [
    "Find the ICD-10 code for the `Dementia in Alzheimer disease` which is a mental and behavioural disorder. The ICD-10 code we want must encompass all the following:\n",
    " - Dementia in Alzheimer disease with early onset\n",
    " - Dementia in Alzheimer disease with late onset\n",
    " - Dementia in Alzheimer disease, atypical or mixed type\n",
    " - Dementia in Alzheimer disease, unspecified\n",
    "\n",
    "You can look up the ICD-10 code [here](https://icd.who.int/browse10/2019/en#/). Submit your answer below, and exclude the dot(.) in between the ICD code:"
   ]
  },
  {
   "cell_type": "code",
   "execution_count": null,
   "id": "0581120f-72af-4e85-b964-727cf3c2bfad",
   "metadata": {
    "tags": []
   },
   "outputs": [],
   "source": [
    "#Provide the ICD-10 code as input\n",
    "icd_code = input(\"Enter your answer here: \")\n",
    "\n",
    "# Check your answer\n",
    "t3_check(icd_code)"
   ]
  },
  {
   "cell_type": "code",
   "execution_count": null,
   "id": "d069c301-b764-4d50-8ac0-59e02330707e",
   "metadata": {
    "tags": []
   },
   "outputs": [],
   "source": [
    "#view solution\n",
    "t3_solution()"
   ]
  },
  {
   "cell_type": "markdown",
   "id": "997ecf01-aa19-478d-a5eb-6cb83b4eb981",
   "metadata": {},
   "source": [
    "<hr>"
   ]
  },
  {
   "cell_type": "code",
   "execution_count": null,
   "id": "094d5617-cbda-45c4-aadc-1b29a60a1f1d",
   "metadata": {},
   "outputs": [],
   "source": []
  },
  {
   "cell_type": "code",
   "execution_count": null,
   "id": "b971ee66-f7ee-4126-bd9f-a3c36ec1789e",
   "metadata": {
    "tags": []
   },
   "outputs": [],
   "source": [
    "# Searching or Filter DataFrames/Patients based on ICD /Diagnosis codes.\n",
    "\n",
    "# Find all patient diagnonesed after age_diagnosis_year 100 in DATA_4\n",
    "\"\"\"DATA_8 = DATA_4[DATA_4[\"age_diagnosis_year\"] > 100]\n",
    "\n",
    "DATA_8.loc[:,[\"gender\",\"id\"]]\"\"\"\n",
    "\n",
    "# Find all patient diagnonesed with age_diagnosis_year greater then 60 and age_dead_year greater then 100 in DATA_4\n",
    "\"\"\"DATA_4[(DATA_4[\"age_diagnosis_year\"] > 95) & (DATA_4[\"age_dead_year\"] > 100)]\"\"\"\n",
    "\n",
    "\n"
   ]
  },
  {
   "cell_type": "code",
   "execution_count": null,
   "id": "5cfb36ab-627c-4c3e-be1e-70514f24077d",
   "metadata": {
    "tags": []
   },
   "outputs": [],
   "source": [
    "# Example \n",
    "data = {'Names': ['Alice', 'Bob', 'Charlie', 'David', 'Eve']}\n",
    "df = pd.DataFrame(data)\n",
    "\n",
    "# Select rows where Names contain 'a' with startswith()\n",
    "selected_df = df[df['Names'].str.startswith('E')]\n",
    "\n",
    "print(selected_df)\n",
    "\n",
    "\n",
    "\n",
    "# Find all patient diagnonesed with I10 in DATA_4 , diagnosis_code column\n",
    "# text-based filtering on string columns in a DataFrame\n",
    "\"\"\"DATA_4[DATA_4[\"diagnosis_code\"].str.startswith(\"I10\")]\"\"\"\n",
    "\n",
    "#DATA_4[DATA_4[\"diagnosis_code\"].str.contains(\"I10\")]"
   ]
  },
  {
   "cell_type": "markdown",
   "id": "e7cebda9-2a44-4423-be5e-0e6509fd8bfe",
   "metadata": {
    "tags": []
   },
   "source": [
    "##### Task 4"
   ]
  },
  {
   "cell_type": "markdown",
   "id": "b71d483b-e111-4b45-9504-8952c825100e",
   "metadata": {
    "tags": []
   },
   "source": [
    "Display the DataFrame that contains the `Dementia in Alzheimer disease` ICD-10 code or `diagnosis_code` that encompasses all the following:\n",
    " - Dementia in Alzheimer disease with early onset\n",
    " - Dementia in Alzheimer disease with late onset\n",
    " - Dementia in Alzheimer disease, atypical or mixed type\n",
    " - Dementia in Alzheimer disease, unspecified\n",
    "\n",
    "Tips: \n",
    "1. Fill the correct ICD code \n",
    "2. Use `startswith()` or `contains()` along with ICD-10 code or `diagnosis_code` to select appropriate DataFrames."
   ]
  },
  {
   "cell_type": "code",
   "execution_count": null,
   "id": "c0ef23fc-7e1a-4998-8626-72bbce5283c0",
   "metadata": {
    "tags": []
   },
   "outputs": [],
   "source": [
    "# TODO: Your code goes here.\n",
    "icd_code = \"F00\"\n",
    "diagnosis_codes_XXX_df = DATA_4[DATA_4[\"diagnosis_code\"].str.startswith(icd_code)]\n",
    "#_____\n",
    "\n",
    "# Check your answer\n",
    "t4_check(diagnosis_codes_XXX_df)\n",
    "diagnosis_codes_XXX_df"
   ]
  },
  {
   "cell_type": "code",
   "execution_count": null,
   "id": "40324685-3b8a-469a-8eb4-85de1f92d933",
   "metadata": {
    "tags": []
   },
   "outputs": [],
   "source": [
    "#view one of the possible answers\n",
    "t4_solution()"
   ]
  },
  {
   "cell_type": "markdown",
   "id": "16c16208-33c1-4e44-bc64-020d3923649b",
   "metadata": {},
   "source": [
    "<hr>"
   ]
  },
  {
   "cell_type": "code",
   "execution_count": null,
   "id": "c2e44bb6-018c-44fb-b3ea-504fec0b1c98",
   "metadata": {},
   "outputs": [],
   "source": [
    "le = LabelEncoder()\n",
    "DATA_4[\"labelencoded\"] = le.fit_transform(DATA_4[\"gender\"])\n",
    "DATA_4[[\"labelencoded\"]]"
   ]
  },
  {
   "cell_type": "code",
   "execution_count": null,
   "id": "ec93887f-4505-4009-8ad2-65ef805b7488",
   "metadata": {},
   "outputs": [],
   "source": []
  },
  {
   "cell_type": "code",
   "execution_count": null,
   "id": "7d780924-dd65-45d7-96b9-dd789e06bc57",
   "metadata": {},
   "outputs": [],
   "source": []
  },
  {
   "cell_type": "markdown",
   "id": "a2a96628-aa41-4f1b-a790-c377ffa1a94d",
   "metadata": {},
   "source": [
    "##### Task 5: Apply label encoding using `LabelEncoder()` on the `gender`and `diagnosis_code` column of the `DATA_4`DataFrame.\n",
    "\n",
    "Follow these instruction sequentially\n",
    "1. Create a new copy of dataframe as `DATA_4_Gender_DiagnosisCode`consisting only the `gender` and `diagnosis_code` column from the `DATA_4`.\n",
    "2. Display the first 20 rows from the `DATA_4_Gender_DiagnosisCode`.\n",
    "3. Create an instance named `le` of `LabelEncoder()`. The `LabelEncoder()` is already imported `from sklearn.preprocessing import LabelEncoder` .\n",
    "4. Apply a for loop to iterate through the `DATA_4_Gender_DiagnosisCode` columns.\n",
    "5. Perform fit transformation using label encoder instance on dataframe `DATA_4_Gender_DiagnosisCode`. (* This is already done in snippet below)\n",
    "6. Display the `DATA_4_Gender_DiagnosisCode` after performing label encoding.\n",
    "7. Analyze the difference between the original and label encoded dataframe."
   ]
  },
  {
   "cell_type": "code",
   "execution_count": null,
   "id": "89f22993-79b1-4c1e-841a-d242cb51e690",
   "metadata": {},
   "outputs": [],
   "source": [
    "# TODO: Your code goes here.\n",
    "\n",
    "'''1. Create a new copy of dataframe as `DATA_4_Gender_DiagnosisCode`consisting only the `gender` and `diagnosis_code` column from the `DATA_4`.'''\n",
    "DATA_4_Gender_DiagnosisCode = _____.copy()\n",
    "\n",
    "'''2. Display the first 20 rows of the `DATA_4_Gender_DiagnosisCode'''\n",
    "print(\"Original DataFrame\")\n",
    "display(DATA_4_Gender_DiagnosisCode.head(20))\n",
    "\n",
    "'''3. Create an instance named `le` for the `LabelEncoder()'''\n",
    "le = _____()\n",
    "\n",
    "'''4. Apply a for loop to iterate through the `DATA_4_Gender_DiagnosisCode` columns'''\n",
    "for col in _____:\n",
    "    \n",
    "    '''5. Perform fit transformation using label encoder instance on dataframe `DATA_4_Gender_DiagnosisCode`.'''\n",
    "    DATA_4_Gender_DiagnosisCode[col] = le.fit_transform(DATA_4_Gender_DiagnosisCode[col])\n",
    "    \n",
    "'''6. Display the `DATA_4_Gender_DiagnosisCode` after performing label encoding.'''\n",
    "print(\"DataFrame After Label Encoding\")\n",
    "display(DATA_4_Gender_DiagnosisCode.head(20))\n",
    "\n",
    "# Checks your answer\n",
    "t5_check(DATA_4_Gender_DiagnosisCode.head(20))"
   ]
  },
  {
   "cell_type": "code",
   "execution_count": null,
   "id": "e54c5ed4-0065-40e1-9ad5-633256d65fea",
   "metadata": {},
   "outputs": [],
   "source": [
    "#view the answers\n",
    "t5_solution()"
   ]
  },
  {
   "cell_type": "markdown",
   "id": "46b8f732-0cf9-4b7b-a0df-a26a2f555aaa",
   "metadata": {
    "tags": []
   },
   "source": [
    "<hr>"
   ]
  },
  {
   "cell_type": "markdown",
   "id": "d3055308-bd6f-4949-b4c5-dd0eb387d1c9",
   "metadata": {},
   "source": [
    "##### Task 6: Apply one hot encoding on the `gender`and `diagnosis_code` column of the `DATA_4`DataFrame using `get_dummies()`.\n",
    "\n",
    "Follow these instruction sequentially\n",
    "1. Create a new copy of dataframe as `DATA_4_Gender_DiagnosisCode`consisting only the `gender` and `diagnosis_code` column from the `DATA_4`.\n",
    "2. Display the first 20 rows of the `DATA_4_Gender_DiagnosisCode`.\n",
    "3. Create a dataframe `onehotencoded_DATA_4` that stores the new dataframe generated after applying one hot encoding through pandas `get_dummies()` \n",
    "    1. Syntax to apply one hot encoding through pandas get_dummies: `pd.get_dummies(data,columns=[column_name],dtype=int)`\n",
    "6. Display the new `onehotencoded_DATA_4` after performing one hot encoding.\n",
    "7. Analyze the difference between the original and one hot encoded dataframe."
   ]
  },
  {
   "cell_type": "code",
   "execution_count": null,
   "id": "9f4d0d6c-5eaa-4037-b555-fc24983d08e9",
   "metadata": {
    "tags": []
   },
   "outputs": [],
   "source": [
    "# TODO: Your code goes here.\n",
    "'''1. Create a new copy of dataframe as `DATA_4_Gender_DiagnosisCode`consisting only the `gender` and `diagnosis_code` column from the `DATA_4`.'''\n",
    "_____ = DATA_4[['gender','diagnosis_code']].copy()\n",
    "\n",
    "'''2. Display the first 20 rows of the `DATA_4_Gender_DiagnosisCode'''\n",
    "display(DATA_4_Gender_DiagnosisCode.head(20))\n",
    "\n",
    "'''3. Create a dataframe onehotencoded_DATA_4 that stores the new dataframe generated after applying one hot encoding through pandas get_dummies()\n",
    "        3A. Syntax to apply one hot encoding through pandas get_dummies: pd.get_dummies(data,columns=[column_name],dtype=int)'''\n",
    "onehotencoded_DATA_4 = pd._____(DATA_4_Gender_DiagnosisCode,columns = ['gender','diagnosis_code'],dtype=int)\n",
    "\n",
    "'''4. Display the `DATA_4_Gender_DiagnosisCode` after performing label encoding.'''\n",
    "display(onehotencoded_DATA_4.head(20))\n",
    "\n",
    "# Checks your answer\n",
    "t6_check(onehotencoded_DATA_4.head(20))"
   ]
  },
  {
   "cell_type": "code",
   "execution_count": null,
   "id": "794a2508-8b4e-4b28-b42b-7b42798159d4",
   "metadata": {
    "tags": []
   },
   "outputs": [],
   "source": [
    "#view the answers\n",
    "t6_solution()"
   ]
  },
  {
   "cell_type": "markdown",
   "id": "2cfa9ac0-f041-41b3-8ff9-bd3b846cba28",
   "metadata": {},
   "source": [
    "<hr>"
   ]
  },
  {
   "cell_type": "code",
   "execution_count": null,
   "id": "dc0897b6-d564-4154-b0c2-185affca6291",
   "metadata": {
    "tags": []
   },
   "outputs": [],
   "source": [
    "point1 = np.array((3, 2, 3))\n",
    "point2 = np.array((2, 1, 1))\n",
    "\n",
    "sum_sq = np.sum(np.square(point1 - point2))\n",
    "print(sum_sq)"
   ]
  },
  {
   "cell_type": "markdown",
   "id": "ea1c8a53-686e-4466-a8bb-6b3d68215b87",
   "metadata": {},
   "source": [
    "##### Task 7"
   ]
  },
  {
   "cell_type": "markdown",
   "id": "09ee0d2d-be37-4979-ab5b-2916c326c881",
   "metadata": {},
   "source": [
    "Compute the euclidean distance between two columns of `DATA_4` DataFrame column `age_dead_year` and `age_diagnosis_year` for `diagnosis_code` `F102`, `F011`. Using numpy `np.sqrt()`, `np.sum()` and pandas\n",
    "\n",
    "Tips: You can select dataframe either using `isin()` or OR `(|)`.\n",
    "\n",
    "Read more about [Euclidian distance](https://machinelearningmastery.com/distance-measures-for-machine-learning/#:~:text=Euclidean%20distance%20calculates%20the%20distance,floating%20point%20or%20integer%20values.). It computes distance between two points in euclidian space."
   ]
  },
  {
   "cell_type": "code",
   "execution_count": null,
   "id": "f2cbd615-ab45-4e24-afee-19c9ef401fe8",
   "metadata": {},
   "outputs": [],
   "source": [
    "# TODO: Your code goes here.\n",
    "# Select data based on diagnosis_code F102, F011\n",
    "selected_df = DATA_4[DATA_4[\"diagnosis_code\"].isin([\"F102\", \"F011\"])]\n",
    "\n",
    "# Compute values in age_dead_year and age_diagnosis_year column\n",
    "x = selected_df[\"age_dead_year\"].values\n",
    "y = selected_df[\"age_diagnosis_year\"].values\n",
    "\n",
    "# Compute euclidian distance between x and y\n",
    "distance = np.sqrt(np.sum((x - y) ** 2))\n",
    "\n",
    "# Print euclidian distance\n",
    "print(distance)\n",
    "\n",
    "# Check your answer\n",
    "t7_check(distance)"
   ]
  },
  {
   "cell_type": "code",
   "execution_count": null,
   "id": "eab81cab-c9a9-4472-9fb1-42ccaca8e63e",
   "metadata": {},
   "outputs": [],
   "source": [
    "#view one of the possible answers\n",
    "t7_solution()"
   ]
  },
  {
   "cell_type": "markdown",
   "id": "03ad9b7c-974c-4054-b497-dc0535300c4d",
   "metadata": {},
   "source": [
    "<hr>"
   ]
  },
  {
   "cell_type": "markdown",
   "id": "fab53295-4058-41d4-9ad3-d530117b53ad",
   "metadata": {
    "tags": []
   },
   "source": [
    "##### Task 8"
   ]
  },
  {
   "cell_type": "markdown",
   "id": "9c042298-9377-47a0-8da2-f136cec05f16",
   "metadata": {},
   "source": [
    "Select the `diagnosis_text` column from the `DATA_4` DataFrame and make a copy of it containing only top 5 rows.Then convert each text/strings in respective row to the corresponding vector representation using `CountVectorizer` from `sklearn`. Display the original and transformed `diagnosis_text` column dataframe. \n",
    "\n",
    "Follow these instruction sequenctially\n",
    "1. Copy the `diagnosis_text` column from the `DATA_4` DataFrame and save the copy as `TASKXX_DATA_4`\n",
    "2. Display the copied `TASKXX_DATA_4` DataFrame\n",
    "3. Create an instance `count_vectorizor` of `CountVectorizer()` for vectorization of string/text.\n",
    "4. Fit and transfrom the `diagnosis_text` column from `TASKXX_DATA_4` DataFrame with `count_vectorizor`.\n",
    "5. Convert the new transformed data `numeric_diagnosis_text` and save to `numeric_diagnosis_text_df`\n",
    "6. Display the `numeric_diagnosis_text_df` DataFrame.\n",
    "\n",
    "Info: Many data analysis and machine learning algorithms require numerical input. And numerical/vector representation is needed to apply them effectively.\n",
    "There are many ways for it like A. `Bag of Words` B. `Word Embedding` C. `Document Embedding` D. `TF-IDF`"
   ]
  },
  {
   "cell_type": "code",
   "execution_count": null,
   "id": "358add8d-11a6-46ab-836b-a551568dc343",
   "metadata": {},
   "outputs": [],
   "source": [
    "# TODO: Your code goes here.\n",
    "\n",
    "# Create a copy of the DataFrame\n",
    "TASKXX_DATA_4 = DATA_4[['diagnosis_text']].iloc[:5]._____()\n",
    "\n",
    "# Display all rows of the original DataFrame\n",
    "display(TASKXX_DATA_4)\n",
    "\n",
    "# Initialize the CountVectorizer\n",
    "count_vectorizor = _____()\n",
    "\n",
    "# Fit and transform the text column\n",
    "numeric_diagnosis_text = count_vectorizor._____(TASKXX_DATA_4['diagnosis_text'])\n",
    "\n",
    "# Convert the transformed data into a DataFrame\n",
    "numeric_diagnosis_text_df = pd.DataFrame(numeric_diagnosis_text.toarray(), columns=count_vectorizor.get_feature_names_out())\n",
    "\n",
    "# Display all rows of the transformed DataFrame\n",
    "display(numeric_diagnosis_text_df)\n",
    "\n",
    "# Check your answer\n",
    "t8_check(numeric_diagnosis_text_df)"
   ]
  },
  {
   "cell_type": "code",
   "execution_count": null,
   "id": "88137473-6c77-44f9-9a58-6d2c790b5079",
   "metadata": {},
   "outputs": [],
   "source": [
    "#view answer\n",
    "t8_solution()"
   ]
  },
  {
   "cell_type": "markdown",
   "id": "d04cea9c-d244-4bde-b924-158a347db25f",
   "metadata": {},
   "source": [
    "<hr>"
   ]
  },
  {
   "cell_type": "markdown",
   "id": "574cda71-20d0-475a-bddd-3e046bddd234",
   "metadata": {},
   "source": [
    "##### Task 9"
   ]
  },
  {
   "cell_type": "markdown",
   "id": "5228ca97-1de1-4092-9035-79cb07706267",
   "metadata": {},
   "source": [
    "Compute the minimum, maximum value, mean, median of the `age_dead_year` column from the `DATA_4`. \n",
    "\n",
    "Tips: Use `min()`,`max()`,`mean()`,`median()`"
   ]
  },
  {
   "cell_type": "code",
   "execution_count": null,
   "id": "146b310c-8616-4b7d-8af5-e35d984c8972",
   "metadata": {
    "tags": []
   },
   "outputs": [],
   "source": [
    "# TODO: Your code goes here.\n",
    "min_val = DATA_4['age_dead_year']._____()\n",
    "max_val = DATA_4['age_dead_year']._____()\n",
    "mean_val = DATA_4['age_dead_year']._____()\n",
    "median_val = DATA_4['age_dead_year']._____()\n",
    "\n",
    "print(f'Minimum:{min_val}, Maximum:{max_val}, Mean:{mean_val}, Median:{median_val}')\n",
    "\n",
    "# Check your answer\n",
    "answer = min_val,max_val,mean_val,median_val\n",
    "t9_check(answer)"
   ]
  },
  {
   "cell_type": "code",
   "execution_count": null,
   "id": "d12805b9-2e11-4bab-8893-476ad878127e",
   "metadata": {},
   "outputs": [],
   "source": [
    "#view one of the possible answers\n",
    "t9_solution()"
   ]
  },
  {
   "cell_type": "markdown",
   "id": "676d4762-df61-4af6-a213-a3502e3a3969",
   "metadata": {},
   "source": [
    "<hr>"
   ]
  },
  {
   "cell_type": "markdown",
   "id": "6dc50aa1-c53f-475d-b97f-b36d1275307a",
   "metadata": {},
   "source": [
    "##### Task 10"
   ]
  },
  {
   "cell_type": "markdown",
   "id": "c422d5df-6ef5-4d6d-a4c6-90c90b9374ac",
   "metadata": {},
   "source": [
    "Display all the data with the specific `diagnosis_code` of \"J449\" (e.g., return a DataFrame where the `diagnosis_code` is \"J449\")."
   ]
  },
  {
   "cell_type": "code",
   "execution_count": null,
   "id": "da995e9f-496a-44a2-9bd4-024b6a840f99",
   "metadata": {},
   "outputs": [],
   "source": [
    "# TODO: Your code goes here.\n",
    "diagnosis_codes_starting_with_J449_df = DATA_4[DATA_4[\"_____\"].str.startswith(\"_____\")]\n",
    "\n",
    "# Check your answer\n",
    "t10_check(diagnosis_codes_starting_with_J449_df)\n",
    "diagnosis_codes_starting_with_J449_df"
   ]
  },
  {
   "cell_type": "code",
   "execution_count": null,
   "id": "78f1c9ce-dae1-4ab2-9a15-cc61676864ee",
   "metadata": {
    "tags": []
   },
   "outputs": [],
   "source": [
    "#view one of the possible answers\n",
    "t10_solution()"
   ]
  },
  {
   "cell_type": "markdown",
   "id": "1272918e-68d2-4983-a158-74ccea4d8518",
   "metadata": {},
   "source": [
    "<hr>"
   ]
  },
  {
   "cell_type": "code",
   "execution_count": null,
   "id": "a824abe3-f20e-40ce-b0ca-d95e430c1095",
   "metadata": {
    "tags": []
   },
   "outputs": [],
   "source": [
    "\n",
    "data = {'X': [1, 2, 3, 4, 5],\n",
    "        'Y': [10, 15, 13, 20, 18]}\n",
    "df = pd.DataFrame(data)\n",
    "\n",
    "x_data = df['X']\n",
    "y_data = df['Y']\n",
    "\n",
    "plt.plot(x_data,y_data)\n",
    "\n",
    "\n",
    "# Add labels and a title\n",
    "plt.xlabel('X-axis')\n",
    "plt.ylabel('Y-axis')\n",
    "plt.title('Line Plot Example')\n",
    "\n",
    "# Show a legend if needed\n",
    "plt.legend()\n",
    "\n",
    "# Display the plot\n",
    "plt.show()"
   ]
  },
  {
   "cell_type": "markdown",
   "id": "6889ce33-12a1-4e5e-b1c6-31e8da44cc87",
   "metadata": {},
   "source": [
    "##### Task 11"
   ]
  },
  {
   "cell_type": "markdown",
   "id": "60e944c6-57bd-4e06-afd0-0078cc03823f",
   "metadata": {},
   "source": [
    "Create a new `DATA_4_ICD` DataFrame by filtering the `DATA_4` to only include rows with ICD codes or `diagnosis_code` that start with \"C11\" which is `Malignant neoplasm of nasopharynx`. Then, plot `age_diagnosis_year`,\t`age_first_contact_year`,\t`age_last_contact_year`,\t`age_dead_year` in a line plot using matplotlib. And analyze it.\n",
    "\n",
    "Follow these instruction sequentially:\n",
    "1. Select the DataFrame with `diagnosis_code`: `C11` and save it as `DATA_4_ICD` using `startswith()`\n",
    "2. Create a new DataFrame named `DATA_4_ICD_C11` consisting column ` 'id', 'age_diagnosis_year', 'age_first_contact_year', 'age_last_contact_year', 'age_dead_year'`\n",
    "3. Set the `id` column, which is patient id as the index using `set_index()`\n",
    "4. Create a `line` plot with `grid` and ´marker´as `o` using `plot()`\n",
    "5. Set the plot labels with `Patient id` as `xlabel`, `Year` as `ylabel` and title as `Line plot of patient with diagnose, first, last, dead year`\n",
    "6. Show the plot\n",
    "7. Analyse the plot result yourself"
   ]
  },
  {
   "cell_type": "code",
   "execution_count": null,
   "id": "542efa6c-a995-4fa5-aaa7-10dd8ad090e5",
   "metadata": {
    "tags": []
   },
   "outputs": [],
   "source": [
    "# TODO: Your code goes here.\n",
    "\n",
    "# Select appropriate DataFrame with C11 diagnose code and the useful columns\n",
    "DATA_4_ICD = DATA_4[DATA_4['diagnosis_code'].str.startswith('C11')]\n",
    "DATA_4_ICD_C11 = _____[['id', 'age_diagnosis_year', 'age_first_contact_year', 'age_last_contact_year', 'age_dead_year']]\n",
    "\n",
    "# Set the 'Patient id' column as the index\n",
    "DATA_4_ICD_C11.set_index('id', inplace=True)\n",
    "\n",
    "# Create a line plot with a grid\n",
    "ax = DATA_4_ICD_C11._____(kind='_____', marker='o')\n",
    "\n",
    "# Add a grid\n",
    "ax._____(True)\n",
    "\n",
    "# Set plot labels and title\n",
    "plt.xlabel('Patient id')\n",
    "plt.ylabel('Year')\n",
    "plt.title('Line plot of patient with diagnose, first, last, dead year')\n",
    "\n",
    "# Show the plot\n",
    "plt.show()"
   ]
  },
  {
   "cell_type": "code",
   "execution_count": null,
   "id": "01b61b38-7e32-4dff-87a8-c90c40849dcb",
   "metadata": {},
   "outputs": [],
   "source": [
    "# Check your answer (Visualize and compare the plot to determine if your result is correct or not)\n",
    "t11_check()"
   ]
  },
  {
   "cell_type": "code",
   "execution_count": null,
   "id": "9b060429-ed69-4094-8edd-614a2210ed6c",
   "metadata": {},
   "outputs": [],
   "source": [
    "# View one of the possible answers\n",
    "t11_solution()"
   ]
  },
  {
   "cell_type": "markdown",
   "id": "1652d112-3d95-4498-83de-c0cedc5f328c",
   "metadata": {},
   "source": [
    "<hr>"
   ]
  },
  {
   "cell_type": "code",
   "execution_count": null,
   "id": "a9608694-e29d-45c8-aff3-742b69cbed83",
   "metadata": {
    "tags": []
   },
   "outputs": [],
   "source": [
    "data = {'X': [1, 2, 3, 4, 5],\n",
    "        'Y': [10, 15, 13, 20, 18]}\n",
    "df = pd.DataFrame(data)\n",
    "\n",
    "x_data = df['X']\n",
    "y_data = df['Y']\n",
    "\n",
    "# Create a scatter plot\n",
    "plt.scatter(x_data, y_data, marker='o')\n",
    "\n",
    "# Add labels and a title\n",
    "plt.xlabel('X-axis')\n",
    "plt.ylabel('Y-axis')\n",
    "plt.title('Scatter Plot')\n",
    "\n",
    "# Show a legend if needed\n",
    "plt.legend()\n",
    "\n",
    "# Display the plot\n",
    "plt.show()"
   ]
  },
  {
   "cell_type": "markdown",
   "id": "8542d527-a17b-4b84-8f61-bfa9e2e768ee",
   "metadata": {},
   "source": [
    "##### Task 12"
   ]
  },
  {
   "cell_type": "markdown",
   "id": "7c81d5ed-19a3-4b8e-9846-fc015c6e04c6",
   "metadata": {},
   "source": [
    "Using the `DATA_4_ICD` DataFrame, create a scatter plot using `scatter()` for diagnosis_code `F001` which is `Dementia in Alzheimer disease with late onset`. \n",
    "The scatter plot should have `age_last_contact_year` as the x-axis and  `age_dead_year` as the y-axis."
   ]
  },
  {
   "cell_type": "code",
   "execution_count": null,
   "id": "845968b0-fda9-40d7-8760-1540f211f7c3",
   "metadata": {},
   "outputs": [],
   "source": [
    "# TODO: Your code goes here.\n",
    "DATA_4_ICD = DATA_4[DATA_4[\"diagnosis_code\"].str.startswith(\"F001\")]\n",
    "\n",
    "# Create a scatter plot for `age_last_contact_year` vs `age_dead_year` using matplotlib\n",
    "DATA_4_ICD.plot.scatter(x=\"_____\", y=\"_____\")\n",
    "plt._____(DATA_4_ICD[\"age_last_contact_year\"], DATA_4_ICD[\"age_dead_year\"])\n",
    "\n",
    "# Assign the x and y labels\n",
    "plt.xlabel(\"age_last_contact_year\")\n",
    "plt.ylabel(\"age_dead_year\")\n",
    "\n",
    "# Display the scatter plot\n",
    "plt.show()"
   ]
  },
  {
   "cell_type": "code",
   "execution_count": null,
   "id": "528bb430-f1d8-44c5-b422-8fcc59f27a06",
   "metadata": {},
   "outputs": [],
   "source": [
    "# Check your answer (Visualize and compare the plot to determine if your result is correct or not)\n",
    "t12_check()"
   ]
  },
  {
   "cell_type": "code",
   "execution_count": null,
   "id": "e2607b81-b0eb-49aa-88b6-ef27b43d94a7",
   "metadata": {},
   "outputs": [],
   "source": [
    "# View one of the possible answers\n",
    "t12_solution()"
   ]
  },
  {
   "cell_type": "markdown",
   "id": "e9e5af94-3dce-460a-9f78-63a890e24cf5",
   "metadata": {},
   "source": [
    "<hr>"
   ]
  },
  {
   "cell_type": "code",
   "execution_count": null,
   "id": "8f71af55-1039-4e1e-99fa-60d79eac2edc",
   "metadata": {},
   "outputs": [],
   "source": [
    "\n",
    "data = [1, 2, 2, 3, 3, 3, 4, 4, 4, 4, 5]\n",
    "\n",
    "# Create the histogram\n",
    "plt.hist(data)\n",
    "\n",
    "\n",
    "plt.xlabel('X-axis Label')\n",
    "plt.ylabel('Y-axis Label')\n",
    "plt.title('Histogram')\n",
    "\n",
    "# Show the plot\n",
    "plt.show()\n"
   ]
  },
  {
   "cell_type": "markdown",
   "id": "69ca6ecf-6202-4775-8626-37a25b7b7e0a",
   "metadata": {},
   "source": [
    "##### Task 13"
   ]
  },
  {
   "cell_type": "markdown",
   "id": "a1e0f699-ce8a-46ae-a9cb-9f92977fee25",
   "metadata": {},
   "source": [
    "Using the `DATA_4`, create a histogram plot using matplotlib to show total number of patients with some of world most common diseases, the ICD codes or `diagnosis_code` listed below, the title of histogram should be `Histogram showing the number of patients with some common diseases`: \n",
    "1. Diagnose code: `I2`, Disease: `Ischaemic heart diseases and Pulmonary heart disease and diseases of pulmonary circulation`\n",
    "2. Diagnose code: `C`, Disease: `Malignant neoplasms`\n",
    "3. Diagnose code: `J4`, Disease: `Chronic lower respiratory diseases` \n",
    "4. Diagnose code: `E66`, Disease: `Obesity` \n",
    "5. Diagnose code: `F00`, Disease: `Dementia in Alzheimer disease` \n",
    "6. Diagnose code: `E1`, Disease: `Diabetes mellitus and Other disorders of glucose regulation and pancreatic internal secretion` "
   ]
  },
  {
   "cell_type": "code",
   "execution_count": null,
   "id": "011a1aac-938f-4d5f-bb91-32e4f346d6c6",
   "metadata": {
    "tags": []
   },
   "outputs": [],
   "source": [
    "# TODO: Your code goes here.\n",
    "\n",
    "# Select appropriate DataFrame based on the diagnose_code\n",
    "DATA_4_ICD_I2 = DATA_4[DATA_4['diagnosis_code'].str.startswith('I2')]\n",
    "DATA_4_ICD_C = DATA_4[DATA_4['diagnosis_code'].str.startswith('C')]\n",
    "DATA_4_ICD_J4 = DATA_4[DATA_4['diagnosis_code'].str.startswith('J4')]\n",
    "DATA_4_ICD_E66 = DATA_4[DATA_4['diagnosis_code'].str.startswith('E66')]\n",
    "DATA_4_ICD_F00 = DATA_4[DATA_4['diagnosis_code'].str.startswith('F00')]\n",
    "DATA_4_ICD_E1 = DATA_4[DATA_4['diagnosis_code'].str.startswith('E1')]\n",
    "\n",
    "#Compute the lengh of DataFrame of each specific diagnose_code \n",
    "number_of_patient = [len(DATA_4_ICD_I2), len(DATA_4_ICD_C), len(DATA_4_ICD_J4), len(DATA_4_ICD_E66), len(DATA_4_ICD_F00), len(DATA_4_ICD_E1)]\n",
    "diagnose_code_labels = ['I2', 'C', 'J4', 'E66', 'F00', 'E1']\n",
    "\n",
    "# Create a histogram with count of patient and the diagnosis code\n",
    "plt._____(diagnose_code_labels,number_of_patient, color='blue', edgecolor='black')\n",
    "plt._____('Histogram showing the number of patients with some common diseases ')\n",
    "plt.xlabel('Diagnosis Code')\n",
    "plt.ylabel('Count')\n",
    "plt.grid(axis='y')\n",
    "\n",
    "# Show the histogram\n",
    "plt.show()"
   ]
  },
  {
   "cell_type": "code",
   "execution_count": null,
   "id": "cc458ee2-6c65-4461-88fa-4c78f931c3db",
   "metadata": {},
   "outputs": [],
   "source": [
    "# Check your answer (Visualize and compare the plot to determine if your result is correct or not)\n",
    "t13_check()"
   ]
  },
  {
   "cell_type": "code",
   "execution_count": null,
   "id": "249ea58a-94a4-4ed4-8312-1b7836c86b1c",
   "metadata": {},
   "outputs": [],
   "source": [
    "# View one of the possible answers\n",
    "t13_solution()"
   ]
  },
  {
   "cell_type": "markdown",
   "id": "3e7ed30b-5136-4827-9487-9fba40a06948",
   "metadata": {},
   "source": [
    "<hr>"
   ]
  },
  {
   "cell_type": "markdown",
   "id": "831b0fd8-f094-4e91-9da9-466c7d671bef",
   "metadata": {},
   "source": [
    "##### Task 14"
   ]
  },
  {
   "cell_type": "markdown",
   "id": "76a76785-198f-4c1d-93af-17e432042345",
   "metadata": {},
   "source": [
    "Select rows from the `DATA_4` DataFrame that have ICD codes or `diagnosis_code` starting with \"C41\", \"I42\", \"J42\", and \"Z42\". \n",
    "- Then using matplotlib, plot selected dataframes with:\n",
    "- the`diagnosis_code` in y-axis and `age_diagnosis_year` in x-axis in a scatter plot. \n",
    "- Assign `age_diagnosis_year` as x-label and `diagnosis_code` as ylabel.\n",
    "- The title of plot should be `age_diagnosis_year vs diagnosis_code`. \n",
    "- And finally display the plot  \n",
    "\n",
    "Tips: Create a tuple with all `diagnosis_code` and use `startswith()` "
   ]
  },
  {
   "cell_type": "code",
   "execution_count": null,
   "id": "cb705767-7e17-430f-9ae9-5e52abe86584",
   "metadata": {},
   "outputs": [],
   "source": [
    "# TODO: Your code goes here.\n",
    "\"\"\"\n",
    "Create a tuple `icd_codes` consisting of the ICD codes starting with C41,I42,J42,Z42.\n",
    "\"\"\"\n",
    "icd_codes = (\"C41\", \"I42\", \"J42\", \"Z42\")\n",
    "\n",
    "# Select rows that start with those ICD codes \n",
    "df_selected = DATA_4[DATA_4[\"diagnosis_code\"].str.startswith(______)]\n",
    "\n",
    "# Create a scatter plot of age_diagnosis_year vs. diagnosis code\n",
    "plt.______(_____)\n",
    "\n",
    "# Assign x and y labels and a title below respectively\n",
    "___._____\n",
    "___._____\n",
    "___._____\n",
    "\n",
    "# Show the plot\n",
    "___._____\n"
   ]
  },
  {
   "cell_type": "code",
   "execution_count": null,
   "id": "0a364e59-f683-4ccd-b42b-829fa8308e29",
   "metadata": {},
   "outputs": [],
   "source": [
    "# Check your answer (Visualize and compare the plot to determine if your result is correct or not)\n",
    "t14_check()"
   ]
  },
  {
   "cell_type": "code",
   "execution_count": null,
   "id": "2035bb05-2c41-4cc2-9d46-8db248ed83eb",
   "metadata": {},
   "outputs": [],
   "source": [
    "# View one of the possible answers\n",
    "t14_solution()"
   ]
  },
  {
   "cell_type": "markdown",
   "id": "674002b1-f836-4321-b1df-8bd5d4363adf",
   "metadata": {},
   "source": [
    "<hr>"
   ]
  },
  {
   "cell_type": "markdown",
   "id": "7519d6bd-fe81-45d4-8a59-5b76c094acb7",
   "metadata": {},
   "source": [
    "##### Task 15"
   ]
  },
  {
   "cell_type": "markdown",
   "id": "744821b3-8a8f-4ad9-bb09-c285c67e55ad",
   "metadata": {},
   "source": [
    "Select rows from the `DATA_4` DataFrame that have ICD codes starting with \"A415\", \"C348\", and \"J440\". Then, plot `diagnosis_code` with respect to `age_diagnosis_year` using matplotlib. \n",
    "\n",
    "And analyze the result."
   ]
  },
  {
   "cell_type": "code",
   "execution_count": null,
   "id": "48e8b00f-f834-4b63-a4b3-cc9c1d7c70f5",
   "metadata": {},
   "outputs": [],
   "source": [
    "# TODO: Your code goes here.\n",
    "\"\"\"\n",
    "1. Create a tuple variable `icd_codes` consisting of the ICD codes starting with \"A415\", \"C348\", and \"J440\".\n",
    "\"\"\"\n",
    "\n",
    "icd_codes = (\"A415\", \"C348\", \"J440\")\n",
    "\n",
    "# Select rows that start with those ICD codes \n",
    "df_selected =  DATA_4[DATA_4[\"diagnosis_code\"].str.startswith(icd_codes)]\n",
    "\n",
    "# Create a scatter plot of age_diagnosis_year vs. diagnosis code\n",
    "plt._____(_____, _____)\n",
    "\n",
    "# Assign labels and a title\n",
    "plt.xlabel(\"age_diagnosis_year\")\n",
    "plt.ylabel(\"diagnosis_code\")\n",
    "plt.title(\"age_diagnosis_year vs. diagnosis_code\")\n",
    "\n",
    "\n",
    "# Show the plot\n",
    "plt.show()"
   ]
  },
  {
   "cell_type": "code",
   "execution_count": null,
   "id": "ebd474ba-ad3b-43c2-b200-cf4524a4ff08",
   "metadata": {},
   "outputs": [],
   "source": [
    "# Check your answer (Visualize and compare the plot to determine if your result is correct or not)\n",
    "t15_check()"
   ]
  },
  {
   "cell_type": "code",
   "execution_count": null,
   "id": "b95c166c-f574-403a-9252-0f2b1349368f",
   "metadata": {},
   "outputs": [],
   "source": [
    "#view one of the possible answers\n",
    "t15_solution()"
   ]
  },
  {
   "cell_type": "markdown",
   "id": "4270f841-7849-40a0-b7bd-a18d5264f002",
   "metadata": {},
   "source": [
    "<hr>"
   ]
  },
  {
   "cell_type": "code",
   "execution_count": null,
   "id": "9067c093-7766-48fc-908e-144af762f4f4",
   "metadata": {
    "tags": []
   },
   "outputs": [],
   "source": [
    "categories = ['Category A', 'Category B', 'Category C', 'Category D']\n",
    "values = [10, 25, 15, 30]\n",
    "\n",
    "# Create the bar chart\n",
    "plt.bar(categories, values)\n",
    "\n",
    "# Customize the plot (add labels, title, etc.)\n",
    "plt.xlabel('Categories')\n",
    "plt.ylabel('Values')\n",
    "plt.title('Bar Chart ')\n",
    "\n",
    "# Show the plot\n",
    "plt.show()"
   ]
  },
  {
   "cell_type": "markdown",
   "id": "b0f5d62a-f09c-474e-a79d-c52b9c637f69",
   "metadata": {},
   "source": [
    "##### Task 16"
   ]
  },
  {
   "cell_type": "markdown",
   "id": "f79e947d-c105-41c4-987e-c1359414e7d7",
   "metadata": {},
   "source": [
    "Select rows from the `DATA_4` DataFrame with ICD codes or `diagnosis_code` starting with `A415` which is `sepsis due to gram-negative bacteria`  and `J440` which is `Chronic obstructive pulmonary disease with (acute) lower respiratory infection` from the `diagnosis_code` column and count their values. Plot their count values with respect to diagnosis year using the column `age_diagnosis_year`, in a grouped `barchart` with labels using matplotlib. \n",
    "\n",
    "And analyze the result."
   ]
  },
  {
   "cell_type": "code",
   "execution_count": null,
   "id": "656e172f-0dfc-48dc-9f01-119eb24a2515",
   "metadata": {},
   "outputs": [],
   "source": [
    "# TODO: Your code goes here.\n",
    "# Select rows with diagnosis codes starting with 'A415' and 'J440'\n",
    "df_selected =  DATA_4[DATA_4[\"diagnosis_code\"].str.startswith((\"A415\", \"J440\"))]\n",
    "\n",
    "# Group the counts by age diagnosis year and diagnosis year\n",
    "grouped_count_df = df_selected.groupby([\"_____\", \"diagnosis_code\"]).size().unstack()\n",
    "grouped_count_df.plot(kind=\"_____\")\n",
    "# Plot the grouped barchart and assign labels\n",
    "plt.xlabel(\"Diagnosis Year\")\n",
    "plt.ylabel(\"Count\")\n",
    "#plot legend titled \"ICD Code\"\n",
    "plt.legend(title=\"ICD Code\")\n",
    "    \n",
    "# Show the plot\n",
    "plt.show()"
   ]
  },
  {
   "cell_type": "code",
   "execution_count": null,
   "id": "cf759a8e-39e2-4c26-9f67-639ee12daefd",
   "metadata": {},
   "outputs": [],
   "source": [
    "# Check your answer (Visualize and compare the plot to determine if your result is correct or not)\n",
    "t16_check()"
   ]
  },
  {
   "cell_type": "code",
   "execution_count": null,
   "id": "66e0e414-681c-4872-b6cc-a111890556c9",
   "metadata": {},
   "outputs": [],
   "source": [
    "#view one of the possible answers\n",
    "t16_solution()"
   ]
  },
  {
   "cell_type": "markdown",
   "id": "99107c35-e0db-4d7a-98e1-d0e818c4ef4d",
   "metadata": {},
   "source": [
    "<hr>"
   ]
  },
  {
   "cell_type": "code",
   "execution_count": null,
   "id": "f85c6b69-f7e0-4f4b-ac6b-5436375206e0",
   "metadata": {
    "tags": []
   },
   "outputs": [],
   "source": [
    "#Plot pie\n",
    "sizes = [15, 30, 45, 10]  \n",
    "labels = ['Category A', 'Category B', 'Category C', 'Category D']  \n",
    "colors = ['blue', 'green', 'red', 'purple'] \n",
    "\n",
    "# Create the pie chart\n",
    "plt.pie(sizes, labels=labels)\n",
    "\n",
    "plt.axis('equal')  \n",
    "plt.title('Pie Chart')\n",
    "\n",
    "#plt.savefig('my_plot.jpg')\n",
    "\n",
    "# Show the plot\n",
    "plt.show()"
   ]
  },
  {
   "cell_type": "markdown",
   "id": "e458fb47-5df1-4ede-8ff3-1de3d507f0d0",
   "metadata": {},
   "source": [
    "##### Task 17"
   ]
  },
  {
   "cell_type": "markdown",
   "id": "72e2acd0-4884-4f22-a71b-37b823adaa32",
   "metadata": {},
   "source": [
    "Plot the selected rows with `diagnosis_code` \"A415\", \"J440\", and \"C348\" in a form of piechart with their respective propotion in percentage. \n",
    "\n",
    "Tips: Select the appropriate dataframes and then count the dataframe using `value_counts()`. Plot the pie chart using `pie()` with respective proportion in percentage. And display the plot with title `Pie chart of selected ICD codes with their count values`\n",
    "\n",
    "And analyze the result."
   ]
  },
  {
   "cell_type": "code",
   "execution_count": null,
   "id": "2d2bd04a-575b-4063-8c38-87b21813f0f9",
   "metadata": {},
   "outputs": [],
   "source": [
    "# TODO: Your code goes here.\n",
    "\"\"\"\n",
    "1. Create a tuple variable `icd_codes` consisting of the ICD codes starting with A415, J440, C348.\n",
    "\"\"\"\n",
    "icd_codes = (\"A415\", \"J440\", \"C348\")\n",
    "\n",
    "# Select rows with diagnosis codes starting with A415, J440, C348\n",
    "df_selected = DATA_4[DATA_4[\"diagnosis_code\"].str.startswith(icd_codes)]\n",
    "\n",
    "# Get the count of dataframe selected based on the diagnosis_code\n",
    "age_counts = df_selected[\"diagnosis_code\"]._____()\n",
    "\n",
    "# Create a pie chart based on the countvalue of each diagnosis_code\n",
    "plt._____(_____, labels=age_counts.index, autopct=\"%1.1f%%\")\n",
    "plt.title(\"Pie chart of selected ICD codes with their count values\")\n",
    "plt.show()\n"
   ]
  },
  {
   "cell_type": "code",
   "execution_count": null,
   "id": "b956cc65-00f8-4d2a-b21c-00b31c2f6705",
   "metadata": {},
   "outputs": [],
   "source": [
    "# Check your answer (Visualize and compare the plot to determine if your result is correct or not)\n",
    "t17_check()"
   ]
  },
  {
   "cell_type": "code",
   "execution_count": null,
   "id": "81a8c3c9-e8c0-4415-b3d4-296536b72152",
   "metadata": {},
   "outputs": [],
   "source": [
    "#view one of the possible answers\n",
    "t17_solution()"
   ]
  },
  {
   "cell_type": "markdown",
   "id": "8c4ea1c0-79f0-4db9-b970-9c55c2bae662",
   "metadata": {},
   "source": [
    "<hr>"
   ]
  },
  {
   "cell_type": "markdown",
   "id": "7504a479-b325-4d39-a2e6-e332fc00851e",
   "metadata": {},
   "source": [
    "##### Task 18"
   ]
  },
  {
   "cell_type": "markdown",
   "id": "33f1dcb9-988d-4a05-a9d1-cee9c7fabfde",
   "metadata": {},
   "source": [
    "Select rows with diagnosis codes \"A415\", \"J440\", \"C348\". Then, plot it in a form of barchart `bar()` with a grid `grid()`, to view which of the following disease more common and which is least and their distribution.\n",
    "\n",
    "And analyze the result."
   ]
  },
  {
   "cell_type": "code",
   "execution_count": null,
   "id": "f71a926e-f3cf-45ff-a7ae-9b981ec4e1a5",
   "metadata": {},
   "outputs": [],
   "source": [
    "# TODO: Your code goes here.\n",
    "\"\"\"\n",
    "1. Create a tuple variable `icd_codes` consisting of the ICD codes starting with A415, J440, C348.\n",
    "\"\"\"\n",
    "\n",
    "icd_codes = (\"A415\", \"J440\", \"C348\")\n",
    "\n",
    "# Select rows with diagnosis codes starting with A415, J440, C348\n",
    "df_selected = DATA_4[DATA_4[\"diagnosis_code\"].str.startswith(icd_codes)]\n",
    "\n",
    "# Get the count of each ICD code value\n",
    "icd_counts = df_selected[\"diagnosis_code\"].value_counts()\n",
    "\n",
    "# Create a bar plot of ICD code index and their respective count values\n",
    "plt._____(icd_counts.index, _____)\n",
    "plt.xlabel(\"Diagnosis Code\")\n",
    "plt.ylabel(\"Count\")\n",
    "plt.title(\"Bar plot of selected ICD codes(A415, J440, C348)\")\n",
    "plt.grid(True)\n",
    "\n",
    "# Show the plot\n",
    "plt.show()"
   ]
  },
  {
   "cell_type": "code",
   "execution_count": null,
   "id": "5350b28a-79c4-4036-990d-9ef77ea375b9",
   "metadata": {},
   "outputs": [],
   "source": [
    "# Check your answer (Visualize and compare the plot to determine if your result is correct or not)\n",
    "t18_check()"
   ]
  },
  {
   "cell_type": "code",
   "execution_count": null,
   "id": "64239448-edc2-4928-b38c-b7f72cb956c0",
   "metadata": {},
   "outputs": [],
   "source": [
    "#view one of the possible answers\n",
    "t18_solution()"
   ]
  },
  {
   "cell_type": "markdown",
   "id": "b692e888-c126-48ed-956f-78eadc398b3c",
   "metadata": {},
   "source": [
    "<hr>"
   ]
  },
  {
   "cell_type": "markdown",
   "id": "dbf84732-93b7-486e-b4dc-57c2b1aacd11",
   "metadata": {},
   "source": [
    "##### Task 19"
   ]
  },
  {
   "cell_type": "markdown",
   "id": "a7a0fea6-1bcb-473d-a171-1a258bdbfab6",
   "metadata": {},
   "source": [
    "Create two scatter subplots horizontally placed to each other containing:\n",
    "1. `age_first_contact_year` vs `age_diagnosis_year`, and \n",
    "2. `age_last_contact_year` vs `age_dead_year data`.\n",
    "\n",
    "The plot should have a size of `(12, 5)` for the diagnosis codes \"A415\" and \"C348\". Follow the instruction in the comments for the tips."
   ]
  },
  {
   "cell_type": "code",
   "execution_count": null,
   "id": "af61fcfa-a5d1-4c83-9ad4-d1464b48094d",
   "metadata": {},
   "outputs": [],
   "source": [
    "# TODO: Your code goes here.\n",
    "# Create figure with two horizontally placed subplots of size (12, 5)\n",
    "fig, (ax1, ax2) = plt.subplots(1, 2, _______)\n",
    "\n",
    "\"\"\"\n",
    "1.  Create a tuple variable `icd_codes` consisting of the ICD codes starting with A415, C348.\n",
    "\"\"\"\n",
    "icd_codes = (\"A415\", \"C348\")\n",
    "\n",
    "# Select rows with diagnosis codes starting with \"A415\" and \"C348\"\n",
    "df_selected = DATA_4[DATA_4[\"diagnosis_code\"].str.startswith(icd_codes)]\n",
    "\n",
    "# Plot age_first_contact_year vs age_diagnosis_year on the first subplot\n",
    "ax1._______(df_selected[\"age_first_contact_year\"], df_selected[\"age_diagnosis_year\"])\n",
    "# Assign \"Age at first contact\" as x labels for subplot1\n",
    "ax1.set_xlabel(\"Age at first contact\")\n",
    "# Assign \"Age diagnosis year\" as y labels for subplot1\n",
    "ax1.set_ylabel(\"Age diagnosis year\")\n",
    "# Assign title for subplot1\n",
    "ax1._________(\"Relationship between age at first and last contact\")\n",
    "\n",
    "\n",
    "# Plot age_last_contact_year vs age_dead_year on the second subplot\n",
    "ax2._______(df_selected[\"age_last_contact_year\"], df_selected[\"age_dead_year\"])\n",
    "# Assign \"age_last_contact_year\" as x labels for subplot2\n",
    "_____._________(\"age_last_contact_year\")\n",
    "# Assign \"age_dead_year\" as y labels for subplot2\n",
    "_____._________(\"age_dead_year\")\n",
    "# Assign title for subplot2\n",
    "_____.___________(\"Relationship between age_last_contact_year and age_dead_year\")\n",
    "\n",
    "\n",
    "# Show the plot\n",
    "plt.show()\n"
   ]
  },
  {
   "cell_type": "code",
   "execution_count": null,
   "id": "58aaca81-0b6a-4eed-a4a3-8cb2bdee1ff5",
   "metadata": {},
   "outputs": [],
   "source": [
    "# Check your answer (Visualize and compare the plot to determine if the your result is correct or not)\n",
    "t19_check()"
   ]
  },
  {
   "cell_type": "code",
   "execution_count": null,
   "id": "c50056d8-a9ab-4563-8011-654f62cda503",
   "metadata": {},
   "outputs": [],
   "source": [
    "#view one of the possible answers\n",
    "t19_solution()"
   ]
  },
  {
   "cell_type": "markdown",
   "id": "02a81f5c-1f5d-4e53-95f3-0f163d4d455b",
   "metadata": {},
   "source": [
    "<hr>"
   ]
  },
  {
   "cell_type": "markdown",
   "id": "accc5afe-72d7-4374-b006-0a1109c3abc4",
   "metadata": {},
   "source": [
    "##### Task 20"
   ]
  },
  {
   "cell_type": "markdown",
   "id": "fc68b935-6f67-4051-bd00-16f35889273e",
   "metadata": {},
   "source": [
    "Create a 3D scatter plot for columns `gender`, `age_diagnosis_year`, and `age_dead_year` using matplotib mpl_toolkits.mplot3d\n",
    "\n",
    "Tips: Create a plot figure named `fig`, add subplot using `add_subplot()` and projection as `3d` and display it after setting the x,y,z labels and titles respectively in the plot.  "
   ]
  },
  {
   "cell_type": "code",
   "execution_count": null,
   "id": "7708407a-f8a6-4963-8c6b-3f2af773ae9c",
   "metadata": {},
   "outputs": [],
   "source": [
    "# TODO: Your code goes here.\n",
    "\"\"\"Replace female,male as the numeric value 0 and 1 respectively in \n",
    "DATA_4 and save it in the variable CLUSTER_DATA_4\"\"\"\n",
    "CLUSTER_DATA_4 = DATA_4.replace(to_replace=[\"female\",\"male\"],value=[0,1])\n",
    "\n",
    "# Plot a figure\n",
    "fig = _____\n",
    "# Add subplot and projection as 3d\n",
    "ax = fig.add_subplot(111, projection=\"_____\")\n",
    "\n",
    "#plot the data into a 3d scatter plot \n",
    "ax.scatter(CLUSTER_DATA_4[\"gender\"], CLUSTER_DATA_4[\"age_diagnosis_year\"], CLUSTER_DATA_4[\"age_dead_year\"])\n",
    "\n",
    "# Set plot properties (e.g., the labels and title)\n",
    "ax.set_xlabel(\"Gender\")\n",
    "ax.set_ylabel(\"Age at diagnosis\")\n",
    "ax.set_zlabel(\"Age at death\")\n",
    "ax.set_title(\"3D plot of gender, age at diagnosis, and age at death\")\n",
    "\n",
    "# Show the 3d plot\n",
    "plt.show()\n"
   ]
  },
  {
   "cell_type": "code",
   "execution_count": null,
   "id": "e3ad09c1-e6bd-415d-aa10-56dc6a37105e",
   "metadata": {},
   "outputs": [],
   "source": [
    "# Check your answer (Visualize and compare the plot to determine if your result is correct or not)\n",
    "t20_check()"
   ]
  },
  {
   "cell_type": "code",
   "execution_count": null,
   "id": "f519aeeb-a2fb-4fd5-9195-3d60fedca844",
   "metadata": {},
   "outputs": [],
   "source": [
    "#view one of the possible answers\n",
    "t20_solution()"
   ]
  },
  {
   "cell_type": "markdown",
   "id": "9d4c9ee7-8a50-4bdf-8142-3725852e44cb",
   "metadata": {},
   "source": [
    "<hr>"
   ]
  },
  {
   "cell_type": "markdown",
   "id": "6a19217a-ad98-4f52-9e17-bc03f638e56e",
   "metadata": {},
   "source": [
    "**Just fo viewing: Elbow method to find the appropriate number of clusters.** "
   ]
  },
  {
   "cell_type": "code",
   "execution_count": null,
   "id": "dcf47107-b608-4261-a300-3734de1c3953",
   "metadata": {},
   "outputs": [],
   "source": [
    "#This is just for viewing only: Elbow method for finding the appropriate number of clusters\n",
    "df_selected = DATA_4[DATA_4[\"diagnosis_code\"].str.startswith(tuple(\"H\"))]\n",
    "kmeans_range = range(1,10)\n",
    "\n",
    "#sum of square error\n",
    "sse = []\n",
    "for k in kmeans_range:\n",
    "    kmeans = KMeans(n_clusters =k)\n",
    "    kmeans.fit(df_selected[[\"age_diagnosis_year\",\"age_dead_year\"]])\n",
    "    sse.append(kmeans.inertia_)\n",
    "\n",
    "# Assign legend and labels\n",
    "plt.title(\"Elbow Plot for No of Clusters\")\n",
    "plt.xlabel(\"K\")\n",
    "plt.ylabel(\"Sum of square error\")\n",
    "\n",
    "# Display the plot \n",
    "plt.plot(kmeans_range,sse)"
   ]
  },
  {
   "cell_type": "markdown",
   "id": "baa7c937-4ee9-48d9-932e-5308b5016605",
   "metadata": {},
   "source": [
    "##### Task 21"
   ]
  },
  {
   "cell_type": "markdown",
   "id": "55047c86-8955-4af7-b0d4-7ae444eb8f9b",
   "metadata": {},
   "source": [
    "Create a `df_selected` DataFrame by selecting all ICD codes starting with \"H\" from the `DATA_4` DataFrame `diagnosis_code` column. \n",
    "Use sklearn K-means `KMeans()` clustering on the `df_selected` DataFrame , by applying `fit_predict` to make 3 clusters by selecting the columns `age_diagnosis_year` and `age_dead_year`. Cluster 1, Cluster 2, and Cluster 3 will be colored green, red, and blue respectively. In this task, 3 clusters seem meaningful because of the elbow plot above. \n",
    "\n",
    "Additionally read the comment in code to perform the task"
   ]
  },
  {
   "cell_type": "code",
   "execution_count": null,
   "id": "725b465e-816d-4ef7-bc49-3f8916a65df8",
   "metadata": {},
   "outputs": [],
   "source": [
    "# TODO: Your code goes here.\n",
    "\n",
    "# Select dataframes with diagnosis codes starting with H from DATA_4 and save it in df_selected\n",
    "df_selected = _____\n",
    "\n",
    "# Initialize the k-means model having 3 clusters\n",
    "kmeans = _____(n_clusters =_____)\n",
    "\n",
    "# Fit the model selecting column age_diagnosis_year and age_dead_year and predict the clusters using fit_predict()\n",
    "y_predicted = kmeans._____(df_selected[[\"age_diagnosis_year\",\"age_dead_year\"]])\n",
    "df_selected[\"cluster\"] = y_predicted\n",
    "\n",
    "#Assign cluster to respective data \n",
    "cluster0 = _____[_____[\"cluster\"]==0]\n",
    "cluster1 = _____[_____[\"cluster\"]==1]\n",
    "cluster2 = _____[_____[\"_____\"]==2]\n",
    "\n",
    "# Visualize the clusters\n",
    "plt.scatter(_____[\"age_diagnosis_year\"],cluster0[\"_____\"],color=\"green\", label = \"Cluster 1\")\n",
    "plt.scatter(_____[\"age_diagnosis_year\"],cluster1[\"_____\"],color=\"red\", label = \"Cluster 2\")\n",
    "plt.scatter(_____[\"age_diagnosis_year\"],cluster2[\"_____\"],color=\"blue\", label = \"Cluster 3\")\n",
    "\n",
    "#Provide the x and y labels and legend\n",
    "plt.xlabel(\"age_diagnosis_year\")\n",
    "plt._____(\"age_dead_year\")\n",
    "_____.legend()\n",
    "\n",
    "# Show or save plot\n",
    "plt._____()"
   ]
  },
  {
   "cell_type": "code",
   "execution_count": null,
   "id": "0d84faaf-8e00-430e-8c84-0820c7cd9c79",
   "metadata": {},
   "outputs": [],
   "source": [
    "# Check your answer (Visualize and compare the plot to determine if the your result is correct or not)\n",
    "t21_check()"
   ]
  },
  {
   "cell_type": "code",
   "execution_count": null,
   "id": "c243c11e-9816-4909-8135-395cfb046434",
   "metadata": {},
   "outputs": [],
   "source": [
    "#view one of the possible answers\n",
    "t21_solution()"
   ]
  }
 ],
 "metadata": {
  "kernelspec": {
   "display_name": "Python [conda env:.conda-helse_env]",
   "language": "python",
   "name": "conda-env-.conda-helse_env-py"
  },
  "language_info": {
   "codemirror_mode": {
    "name": "ipython",
    "version": 3
   },
   "file_extension": ".py",
   "mimetype": "text/x-python",
   "name": "python",
   "nbconvert_exporter": "python",
   "pygments_lexer": "ipython3",
   "version": "3.10.12"
  }
 },
 "nbformat": 4,
 "nbformat_minor": 5
}
