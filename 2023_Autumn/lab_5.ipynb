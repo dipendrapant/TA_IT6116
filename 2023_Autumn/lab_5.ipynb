{
 "cells": [
  {
   "cell_type": "markdown",
   "id": "44d23a81-3943-4487-9cc5-7d7a7c2ad741",
   "metadata": {},
   "source": [
    "# Machine Learning"
   ]
  },
  {
   "cell_type": "markdown",
   "id": "16f79dd3-1891-4b9f-a0a4-c2e06665c038",
   "metadata": {},
   "source": [
    "\n",
    "Reading materials __[machine learning](https://mitsloan.mit.edu/ideas-made-to-matter/machine-learning-explained)__ \n",
    "for __[supervised learning](https://www.guru99.com/supervised-machine-learning.html)__ or __[supervised learning, kaggle tutorial](https://www.kaggle.com/code/marcovasquez/top-machine-learning-algorithms-beginner)__ read this   \n",
    "for __[unsupervised learning]( https://www.guru99.com/unsupervised-machine-learning.html)__ or __[unsupervised learning, kaggle tutorial](https://www.kaggle.com/code/kashnitsky/topic-7-unsupervised-learning-pca-and-clustering )__\n",
    "\n",
    "This lab contains 3 major part \n",
    "1. Load Data and Train Test Split\n",
    "2. Supervised Learning (A. __[Linear Regression](https://scikit-learn.org/stable/modules/generated/sklearn.linear_model.LinearRegression.html)__ 2. __[Logistic Regression](https://scikit-learn.org/stable/modules/generated/sklearn.linear_model.LogisticRegression.html)__)\n",
    "3. Unsupervised Learning (A. __[K-means Clustering](https://scikit-learn.org/stable/modules/generated/sklearn.cluster.KMeans.html)__ B. __[K-Prototype Clustering](https://link.springer.com/article/10.1023/A:1009769707641)__)\n",
    "\n",
    "Libraries used \n",
    "1. Pandas and Numpy \n",
    "2. __[Sklearn 1.2.2](https://scikit-learn.org/stable/)__ (For Machine Learning Implementation)\n",
    "3. __[NLTK](https://www.nltk.org/)__ (For text processing)"
   ]
  },
  {
   "cell_type": "markdown",
   "id": "c9009eb5-876f-48d4-97ed-fd54bb8a776f",
   "metadata": {},
   "source": [
    "## Pre-requisite to run this lab\n",
    "\n",
    "Please update your version of sklearn to version 1.2.2 and make sure your `data` directory contains the `TilNTNU.csv` file.\n",
    "\n",
    "1. Open a terminal and type the following 3 commands (be sure to change `<username>` to your username):\n",
    "\n",
    "```\n",
    "cd /mnt/work/workbench/<username>/session01\n",
    "conda activate helsedataenv\n",
    "pip install \"kmodes==0.12.2\"\n",
    "```\n",
    "\n",
    "2. Go back to the notebook, in the top left, select `Kernel` and `Shut Down Kernel` from the drop-down menu.\n",
    "\n",
    "3. In the top left, select `Kernel` and `Restart Kernel ...` from the drop-down menu.\n",
    "\n",
    "4. Proceed with the rest of the lab below."
   ]
  },
  {
   "cell_type": "code",
   "execution_count": null,
   "id": "7703c3d4-5578-432b-a081-3e90551c692d",
   "metadata": {
    "tags": []
   },
   "outputs": [],
   "source": [
    "# Run this to import all packages\n",
    "import warnings\n",
    "warnings.filterwarnings(\"ignore\")\n",
    "from lab_5 import *\n",
    "display(DATA_4.head(4))"
   ]
  },
  {
   "cell_type": "markdown",
   "id": "fd5c9b75-8dcb-4ead-a1ba-9f9647cb928c",
   "metadata": {
    "tags": []
   },
   "source": [
    "<hr>"
   ]
  },
  {
   "cell_type": "markdown",
   "id": "b5d73bdf-d55b-463f-9b20-14b804d3af83",
   "metadata": {
    "tags": []
   },
   "source": [
    "## Section A: Train, Evaluate and Test Split"
   ]
  },
  {
   "cell_type": "markdown",
   "id": "480aefee-257e-4f65-9ae0-4617d4d91461",
   "metadata": {},
   "source": [
    "#### Task 1: Dependent and Independent Variables"
   ]
  },
  {
   "cell_type": "markdown",
   "id": "5273a6ca-ac5d-4208-99ac-af3de11d6f56",
   "metadata": {},
   "source": [
    "Create a two new DataFrames from `DATA_4` dataframe, the first one named `independent_variable` consisting columns or features `'age_first_contact_year'`, `'age_diagnosis_year'`,`'age_last_contact_year'` and second one named `dependent_variable` consisting column or label`'age_dead_year'`"
   ]
  },
  {
   "cell_type": "code",
   "execution_count": null,
   "id": "d02d1012-0b7b-4afa-8031-911b1217fe75",
   "metadata": {},
   "outputs": [],
   "source": [
    "## TODO: Your code goes here. Fill the missing lines (_________)\n",
    "_________\n",
    "_________"
   ]
  },
  {
   "cell_type": "code",
   "execution_count": null,
   "id": "6dc1b479-bab5-4721-90fd-aa4374c10b40",
   "metadata": {},
   "outputs": [],
   "source": [
    "# Check your answer after doing task 1\n",
    "q1_check(independent_variable,dependent_variable)\n",
    "\n",
    "# View Output Dataframe\n",
    "display(independent_variable.head(4))\n",
    "display(dependent_variable.head(4))"
   ]
  },
  {
   "cell_type": "code",
   "execution_count": null,
   "id": "baaa9dd8-c65a-4e86-9aec-7ab6d81192de",
   "metadata": {},
   "outputs": [],
   "source": [
    "#view solution\n",
    "q1_solution()"
   ]
  },
  {
   "cell_type": "markdown",
   "id": "1071374d-0f2a-4765-9b62-68bb64673fc1",
   "metadata": {},
   "source": [
    "<hr>"
   ]
  },
  {
   "cell_type": "markdown",
   "id": "c20c9b6f-9f98-4651-88ef-c225ece89f0d",
   "metadata": {},
   "source": [
    "#### Task 2: Train, Evaluate Test Split"
   ]
  },
  {
   "cell_type": "markdown",
   "id": "2043c1a8-d21d-472a-8938-fbd009ce8aa3",
   "metadata": {},
   "source": [
    "From `DATA_4` dataframe create a new dataframe named `independent_variable` consisting column or features `'age_first_contact_year'`, `'age_diagnosis_year'`,`'age_last_contact_year'` and the other dataframe named `dependent_variable` consisting `'age_dead_year'`. Then split them into train,evaluate & test set using sklearn `train_test_split()` method\n",
    ",where the 70% of data is allocated for training,10% for evaluation and 20 % for testing.  \n",
    "\n",
    " - `independent_variable` train data is named as `X_train`, evaluation set as `X_eval` and test data as `X_test`\n",
    " - `dependent_variable` train data is named as `y_train`, evaluation set as `y_eval` and test data as `y_test`"
   ]
  },
  {
   "cell_type": "code",
   "execution_count": null,
   "id": "4be3af90-51db-4f9d-a1dd-13ff3f1241e9",
   "metadata": {},
   "outputs": [],
   "source": [
    "## TODO: Your code goes here. Fill the missing lines (_________)\n",
    "\n",
    "independent_variable = _________\n",
    "dependent_variable = _________\n",
    "\n",
    "X_train, X_temp, y_train, y_temp = _________\n",
    "X_test,X_eval,y_test,y_eval = _________"
   ]
  },
  {
   "cell_type": "code",
   "execution_count": null,
   "id": "ad854bd3-fe06-43d2-9fb5-79013e5a77d1",
   "metadata": {},
   "outputs": [],
   "source": [
    "# Check your answer after doing task 2\n",
    "print(f'Tranning \\nX_train:{X_train.shape}y_train:{y_train.shape}')\n",
    "print(f'Testing \\nX_eval:{X_eval.shape},y_eval:{y_eval.shape},X_test:{X_test.shape},y_test:{y_test.shape}')\n",
    "q2_check(str(X_train.shape), str(X_test.shape), str(X_eval.shape), str(y_train.shape), str(y_test.shape), str(y_eval.shape))"
   ]
  },
  {
   "cell_type": "code",
   "execution_count": null,
   "id": "95f429d6-764a-4897-b058-97173817f932",
   "metadata": {},
   "outputs": [],
   "source": [
    "#view solution\n",
    "q2_solution()"
   ]
  },
  {
   "cell_type": "markdown",
   "id": "e1f14faa-2cab-43a5-809e-040dc5b63f7d",
   "metadata": {},
   "source": [
    "________________________________________________________________________________________________________________________________________________________________________________________________________________________________\n",
    "________________________________________________________________________________________________________________________________________________________________________________________________________________________________"
   ]
  },
  {
   "cell_type": "markdown",
   "id": "fa565105-31cc-455f-816f-aaf25644a8f6",
   "metadata": {},
   "source": [
    "## Section B: Supervised machine learning "
   ]
  },
  {
   "cell_type": "markdown",
   "id": "91da57a7-bb51-4b54-b248-472953846ac3",
   "metadata": {},
   "source": [
    "### Task 3: Linear Regression"
   ]
  },
  {
   "cell_type": "markdown",
   "id": "b9990a6a-9ab3-429d-b8a4-5146b0adc7c9",
   "metadata": {},
   "source": [
    "Use `Linear Regression` from `sklearn` to train a model named as `model`  where the `dependent_variable` is: `'age_dead_year'` \n",
    "and the `independent_variable` are: `'age_first_contact_year'`, `'age_diagnosis_year'`,`'age_last_contact_year'` from `DATA_4` dataframe . Use 70% of the data for training, 10% for evaluation and 20% for testing\n",
    "\n",
    "Tips: Seperate `independent_variable` and `dependent_variable`. Then perform `train_test_split()`.Finally apply `LinearRegression()` and `fit()` the model using `X_train`, `y_train` data"
   ]
  },
  {
   "cell_type": "code",
   "execution_count": null,
   "id": "eaafbf21-b730-4a4b-915b-94e448867e82",
   "metadata": {
    "tags": []
   },
   "outputs": [],
   "source": [
    "## TODO: Your code goes here. Fill the missing lines (_________)\n",
    "\n",
    "# Define independent_variable and dependent_variable\n",
    "_________\n",
    "_________\n",
    "\n",
    "# Perform train, evaluate and test split\n",
    "_________\n",
    "_________\n",
    "\n",
    "# Fit the Linear Regression model\n",
    "_________\n",
    "_________"
   ]
  },
  {
   "cell_type": "code",
   "execution_count": null,
   "id": "9405a37a-6a54-4889-b4a8-622a9c566f06",
   "metadata": {
    "tags": []
   },
   "outputs": [],
   "source": [
    "independent_variable = DATA_4[['age_first_contact_year']]\n",
    "dependent_variable = DATA_4[['age_dead_year']]\n",
    "\n",
    "X_train, X_temp, y_train, y_temp = train_test_split(independent_variable, dependent_variable, test_size=0.3)\n",
    "X_test, X_eval, y_test, y_eval = train_test_split(X_temp, y_temp, test_size=0.33)\n",
    "\n",
    "model = LinearRegression()\n",
    "model.fit(X_train, y_train)\n",
    "\n",
    "print(f'Intercept{model.intercept_}Coef{model.coef_}')"
   ]
  },
  {
   "cell_type": "code",
   "execution_count": null,
   "id": "8e39b72a-a3aa-4074-adaf-9be6ec0bf219",
   "metadata": {
    "tags": []
   },
   "outputs": [],
   "source": [
    "# Check your answer after doing task 3\n",
    "print('Coefficients:', model.coef_)\n",
    "print('Intercept:', model.intercept_)\n",
    "y_pred = model.predict(X_test)\n",
    "r2 = r2_score(y_test, y_pred)\n",
    "mse = mean_squared_error(y_test, y_pred)\n",
    "print('R-squared:', r2)\n",
    "print('Mean squared error:', mse)\n",
    "q3_check(str(r2)[:3]) "
   ]
  },
  {
   "cell_type": "code",
   "execution_count": null,
   "id": "a339f7c2-7fa9-49fe-800b-979c734e944c",
   "metadata": {},
   "outputs": [],
   "source": [
    "#view solution\n",
    "q3_solution()"
   ]
  },
  {
   "cell_type": "markdown",
   "id": "777fbb73-bfe0-4be6-b35b-6b004599f9f0",
   "metadata": {},
   "source": [
    "#### Task 4"
   ]
  },
  {
   "cell_type": "markdown",
   "id": "c2ac7bff-406b-4929-96da-065c5ebc3b44",
   "metadata": {},
   "source": [
    "Using the Linear Regression model trained in `Task 3`   `model`, to predict the dependent variable `'age_dead_year'` by providing  `'age_first_contact_year'`, `'age_diagnosis_year'`,`'age_last_contact_year'` values as inputs. Save the `model` prediction in a variable `prediction`\n",
    "\n",
    "Tips: Apply `predict()` and then display prediction output which is first element of the first element in prediction \n",
    "\n",
    "<i>Note: Enter input age in close range in difference of less then 5(like age_first_contact_year = 56, age_last_contact_year = 58, age_diagnosis_year = 60). Script may show \"Incorrect\" for correct answers. No need to worry, we will see during the lab.</i>  "
   ]
  },
  {
   "cell_type": "code",
   "execution_count": null,
   "id": "799421c2-77cc-41d1-a411-a547c82e5518",
   "metadata": {},
   "outputs": [],
   "source": [
    "## TODO: Your code goes here. Fill the missing lines (_________)\n",
    "\n",
    "age_first_contact_year = int(input('Enter age of first contact (year between 1 - 100) = '))\n",
    "age_last_contact_year = int(input('Enter age of last contact (year between 1 - 100) = '))\n",
    "age_diagnosis_year = int(input('Enter age of diagnosis (year between 1 - 100) = '))\n",
    "\n",
    "# Make prediction\n",
    "prediction = _________\n",
    "\n",
    "\n",
    "# Check your answer after doing task 4\n",
    "prediction_str = str(prediction[0][0])\n",
    "print('Linear regression predicted dead year age:', prediction[0][0])\n",
    "q4_check(int(age_first_contact_year), int(age_last_contact_year), int(age_diagnosis_year),int(prediction_str[0:1]))"
   ]
  },
  {
   "cell_type": "code",
   "execution_count": null,
   "id": "4e68008a-35ad-43ae-be1e-6d4c232d567a",
   "metadata": {},
   "outputs": [],
   "source": [
    "#view solution\n",
    "q4_solution()"
   ]
  },
  {
   "cell_type": "markdown",
   "id": "6972be67-7798-4c31-83fe-d924c7e26bd1",
   "metadata": {},
   "source": [
    "#### Task 5 \n",
    "**Train Linear Regression Model including all the steps**"
   ]
  },
  {
   "cell_type": "markdown",
   "id": "e8cf2e34-13a3-4d3e-b54e-b2e266994fc5",
   "metadata": {},
   "source": [
    "Apply all the steps implemented from `Task 1` till `Task 4` to train a Linear Regression model and name it as `model`. Then predict the dependent variable `'age_dead_year'` by providing  `'age_first_contact_year'`, `'age_diagnosis_year'`,`'age_last_contact_year'` values as inputs, save prediction in a variable `prediction`. \n",
    "\n",
    "- `independent_variable` train data is named as `X_train`, evaluation set as `X_eval` and test data as `X_test`\n",
    "- `dependent_variable` train data is named as `y_train`, evaluation set as `y_eval` and test data as `y_test`\n",
    "- Linear regression model as `model`\n",
    "- predictions made as `prediction`\n",
    "\n",
    "Tips: \n",
    "1. Define `independent_variable` and `dependent_variable`\n",
    "2. Perform `train_test_split()`\n",
    "3. Fit the model using `fit()` and save linear regression model as `model`\n",
    "4. Make prediction using `predict()` save it as `prediction`\n",
    "\n",
    "<i>Note: Enter input age in close range in difference of less then 5(like age_first_contact_year = 56, age_last_contact_year = 58, age_diagnosis_year = 60). Script may show \"Incorrect\" for correct answers. No need to worry, we will see during the lab.</i> "
   ]
  },
  {
   "cell_type": "code",
   "execution_count": null,
   "id": "5220350d-fa0c-4e06-9605-203390378d33",
   "metadata": {
    "tags": []
   },
   "outputs": [],
   "source": [
    "## TODO: Your code goes here. Fill the missing lines (_________)\n",
    "\n",
    "# Define independent_variable and dependent_variable\n",
    "_________\n",
    "_________\n",
    "\n",
    "# Perform train_test_split(), 70% for train, 10% for eval, 20% for test\n",
    "_________\n",
    "_________\n",
    "\n",
    "# Fit the Linear Regression model\n",
    "_________\n",
    "_________\n",
    "\n",
    "# Take user input\n",
    "age_first_contact_year = int(input('Enter age of first contact (year between 1 - 100) = '))\n",
    "age_last_contact_year = int(input('Enter age of last contact (year between 1 - 100) = '))\n",
    "age_diagnosis_year = int(input('Enter age of diagnosis (year between 1 - 100) = '))\n",
    "\n",
    "# Make prediction\n",
    "_________\n",
    "\n",
    "\n",
    "# Check your answer\n",
    "prediction_str = str(prediction[0][0])\n",
    "print('Linear regression predicted dead year age:', prediction[0][0])\n",
    "q55_check(int(age_first_contact_year), int(age_last_contact_year), int(age_diagnosis_year),int(prediction_str[0:1]))"
   ]
  },
  {
   "cell_type": "code",
   "execution_count": null,
   "id": "d8790592-d60c-4d44-b239-dc09260e7211",
   "metadata": {
    "tags": []
   },
   "outputs": [],
   "source": [
    "#view solution\n",
    "q55_solution()"
   ]
  },
  {
   "cell_type": "markdown",
   "id": "34f891e5-3363-49a2-9d7b-15ac887eb63a",
   "metadata": {},
   "source": [
    "#### Task 6\n",
    "**Linear Regression with gender column**"
   ]
  },
  {
   "cell_type": "markdown",
   "id": "b2534bd5-5d75-45a1-99d8-ec4174465e57",
   "metadata": {},
   "source": [
    "Use `Linear Regression` from `sklearn` to predict the `dependent_variable` which is `'age_dead_year'` from `DATA_5`  \n",
    "based on `independent_variable` which are `gender`, `'age_first_contact_year'`, `'age_diagnosis_year'`,`'age_last_contact_year'`, using 70% of the data for training, 10 for evaluation and 20% for testing. Save the Linear Regression model as `model_lin`, and the prediction as a variable `prediction`\n",
    "\n",
    "- `independent_variable` train data is named as `X_train`, evaluation set as `X_eval` and test data as `X_test`\n",
    "- `dependent_variable` train data is named as `y_train`, evaluation set as `y_eval` and test data as `y_test`\n",
    "- Linear regression model as `model_lin`\n",
    "- predictions made as `prediction`\n",
    "\n",
    "<i>Note: Enter input age in close range in difference of less then 5(like age_first_contact_year = 56, age_last_contact_year = 58, age_diagnosis_year = 60). Script may show \"Incorrect\" for correct answers. No need to worry, we will see during the lab.</i> "
   ]
  },
  {
   "cell_type": "code",
   "execution_count": null,
   "id": "ef2b52a1-37d5-4e11-aeb4-db743342b73f",
   "metadata": {},
   "outputs": [],
   "source": [
    "## TODO: Your code goes here. Fill the missing lines (_________)\n",
    "\n",
    "# Define independent_variable and dependent_variable\n",
    "_________\n",
    "_________\n",
    "\n",
    "# Perform train_test_split(), 70% for train, 10% for eval, 20% for test\n",
    "_________\n",
    "_________\n",
    "\n",
    "# Fit the Linear Regression model and save model as model_lin\n",
    "_________\n",
    "_________\n",
    "\n",
    "# Take user input\n",
    "gender = int(input('Enter gender as 1(for female) and 0 (for male) = '))\n",
    "age_first_contact_year = int(input('Enter age of first contact (year between 1 - 100) = '))\n",
    "age_last_contact_year = int(input('Enter age of last contact (year between 1 - 100) = '))\n",
    "age_diagnosis_year = int(input('Enter age of diagnosis (year between 1 - 100) = '))\n",
    "\n",
    "# Make prediction and save prediction in a variable prediction\n",
    "_________\n",
    "\n",
    "\n",
    "# Check your answer\n",
    "print('Linear regression predicted age death year:', prediction[0][0])\n",
    "prediction_str = str(prediction[0][0])\n",
    "q6_check(int(gender),int(age_first_contact_year),int(age_last_contact_year),int(age_diagnosis_year),int(prediction_str[0:1]))"
   ]
  },
  {
   "cell_type": "code",
   "execution_count": null,
   "id": "cadccb84-895c-4a31-82e0-4e3211b2e066",
   "metadata": {},
   "outputs": [],
   "source": [
    "#view solution\n",
    "q6_solution()"
   ]
  },
  {
   "cell_type": "markdown",
   "id": "b2e07dda-6bfb-4e88-8c58-980cc70136eb",
   "metadata": {},
   "source": [
    "### Task 7: Logistic Regression"
   ]
  },
  {
   "cell_type": "markdown",
   "id": "03280c45-b41e-4bbb-9da7-04c774c9b422",
   "metadata": {},
   "source": [
    "Use `Logistic Regression` from `sklearn` to predict the `dependent_variable` thats contains `age_diagnosis_year` from `DATA_5`  \n",
    "based on `independent_variable` thats contains `gender`, `age_first_contact_days`, `age_last_contact_days`, `age_dead_days`, using 70% of the data for training, 10 for evaluation and 20% for testing. \n",
    "\n",
    "- `independent_variable` train data is named as `X_train`, evaluation set as `X_eval` and test data as `X_test`\n",
    "- `dependent_variable` train data is named as `y_train`, evaluation set as `y_eval` and test data as `y_test`\n",
    "- Logistic regression model as `model_logistic`\n",
    "- predictions made as `prediction`\n",
    "\n",
    "\n",
    "Note: Complete execution of this may take time (As it involves model trainning using the large dataset), so wait until the complete execution is completed. Thank you for your patience. <i>Enter input age in close range in difference of less then 5(like age_first_contact_year = 56, age_last_contact_year = 58, age_diagnosis_year = 60). Script may show \"Incorrect\" for correct answers. No need to worry, we will see during the lab.</i> "
   ]
  },
  {
   "cell_type": "code",
   "execution_count": null,
   "id": "650c281b-4736-45ae-b9a5-198a2a2b100b",
   "metadata": {
    "tags": []
   },
   "outputs": [],
   "source": [
    "from sklearn.metrics import confusion_matrix,accuracy_score\n",
    "\n",
    "independent_variable = DATA_4[['age_first_contact_year']]\n",
    "dependent_variable = DATA_5[['gender']]\n",
    "\n",
    "X_train, X_temp, y_train, y_temp = train_test_split(independent_variable, dependent_variable, test_size=0.3)\n",
    "X_test, X_eval, y_test, y_eval = train_test_split(X_temp, y_temp, test_size=0.33)\n",
    "model = LogisticRegression()\n",
    "model.fit(X_train, y_train)\n",
    "\n",
    "print(f'X:{model.decision_function(X_test)}')\n",
    "\n",
    "y_pred = model.predict(X_test)\n",
    "cm = confusion_matrix(y_test, y_pred)\n",
    "print(cm)\n",
    "\n",
    "acc = accuracy_score(y_test, y_pred)\n",
    "print(acc)\n",
    "\n",
    "age_first_contact_year = int(input(\"age_first_contact_year: \"))\n",
    "prediction = model.predict([[age_first_contact_year]])\n",
    "\n",
    "print(f'output: {prediction}')"
   ]
  },
  {
   "cell_type": "code",
   "execution_count": null,
   "id": "49216640-1574-4c82-bddb-e46a8b9c7ed5",
   "metadata": {
    "tags": []
   },
   "outputs": [],
   "source": [
    "dependent_variable = DATA_5[['gender']].astype(int)\n",
    "dependent_variable.value_counts()"
   ]
  },
  {
   "cell_type": "code",
   "execution_count": null,
   "id": "db6aa363-80ed-4b79-af72-604461b4ebeb",
   "metadata": {},
   "outputs": [],
   "source": [
    "## TODO: Your code goes here. Fill the missing lines (_________)\n",
    "\n",
    "# Define independent_variable and dependent_variable\n",
    "_________\n",
    "_________\n",
    "\n",
    "# Perform train_test_split(), 70% for train, 10% for eval, 20% for test\n",
    "_________\n",
    "_________\n",
    "\n",
    "# Fit the Logistic Regression model\n",
    "_________\n",
    "_________\n",
    "\n",
    "# Take user input\n",
    "gender = int(input('Enter gender as 1(for female) and 0 (for male) = '))\n",
    "age_first_contact_year = int(input('Enter age of first contact (year between 1 - 100) = '))\n",
    "age_last_contact_year = int(input('Enter age of last contact (year between 1 - 100) = '))\n",
    "age_diagnosis_year = int(input('Enter age of diagnosis (year between 1 - 100) = '))\n",
    "\n",
    "# Make prediction\n",
    "_________\n",
    "\n",
    "\n",
    "# Check your answer\n",
    "print('Logistic Regression prediction for age death year:', int(prediction[0]))\n",
    "prediction_str = str(prediction[0])\n",
    "q7_check(int(gender),int(age_first_contact_year),int(age_last_contact_year),int(age_diagnosis_year),int(prediction_str[0:1]))"
   ]
  },
  {
   "cell_type": "code",
   "execution_count": null,
   "id": "cbc947d6-645e-43d0-9790-7dba4c28e02b",
   "metadata": {},
   "outputs": [],
   "source": [
    "#view solution\n",
    "q7_solution()"
   ]
  },
  {
   "cell_type": "markdown",
   "id": "1cf7f0b0-86d6-448c-aecb-3aa762aeb04d",
   "metadata": {},
   "source": [
    "## Section C: Unsupervised learning:\n",
    "#### Task 8: View suitable number of cluster for Kmeans using elbow method"
   ]
  },
  {
   "cell_type": "code",
   "execution_count": null,
   "id": "758e8c33-9d67-493c-a76d-5bd0ad4c084c",
   "metadata": {
    "tags": []
   },
   "outputs": [],
   "source": [
    "# View suitable number of cluster in elbow for Kmeans (Execute it and have a look)\n",
    "selected_column_DATA_5 = DATA_5[['age_first_contact_year', 'age_last_contact_year', 'age_diagnosis_year','age_dead_year']].copy()\n",
    "selected_column_DATA_5 = selected_column_DATA_5.iloc[:500]\n",
    "q8view_kmean_suitable_number_clusters(selected_column_DATA_5)"
   ]
  },
  {
   "cell_type": "markdown",
   "id": "e56c8ac9-048b-464d-a77a-9ceed91f6b3a",
   "metadata": {},
   "source": [
    "#### Task 9: Kmeans for clustering "
   ]
  },
  {
   "cell_type": "markdown",
   "id": "361d5c53-bbeb-4133-b9f2-91bfd46949fd",
   "metadata": {},
   "source": [
    "Apply `Kmeans()` clustering on the above `selected_column_DATA_5` dataframe that consist first 500 rows of the columns `age_first_contact_year`, `age_last_contact_year`, `age_diagnosis_year`,`age_dead_year`. Then cluster them into 3 different clusters. Finally check the distribution in different cluster using `value_counts()`. And plot the clustring based on `age_first_contact_year` and `age_dead_year`\n",
    "\n",
    "Tips:\n",
    "1. Initialize a Kmeans instance with 3 clusters as `kmeans`\n",
    "2. Fit and predict `kmeans` with `selected_column_DATA_5` and save it as variable `cluster_assignments`\n",
    "3. Create a new column named as `Cluster` in `selected_column_DATA_5` dataframe containing obtained `cluster_assignments` or cluster labels\n",
    "4. View the distribution and plot (Already done for you)"
   ]
  },
  {
   "cell_type": "code",
   "execution_count": null,
   "id": "5592527d-039e-41c9-b457-123cf6dbd2b1",
   "metadata": {
    "tags": []
   },
   "outputs": [],
   "source": [
    "## TODO: Your code goes here. Fill the missing lines (_________)\n",
    "\n",
    "# Initialize a Kmeans instance with 3 clusters\n",
    "_________\n",
    "\n",
    "# Fit and predict kmeans with selected_column_DATA_5 and save it as a variable cluster_assignments\n",
    "_________\n",
    "\n",
    "# Create a new column named as Cluster in selected_column_DATA_5 dataframe containing obtained cluster_assignments or cluster labels\n",
    "_________\n",
    "\n",
    "\n",
    "\n",
    "# View distribution and plot\n",
    "print(selected_column_DATA_5['Cluster'].value_counts())\n",
    "plt.scatter(selected_column_DATA_5['age_first_contact_year'], selected_column_DATA_5['age_dead_year'], c=selected_column_DATA_5['Cluster'], cmap='rainbow')\n",
    "plt.xlabel('age_first_contact_year')\n",
    "plt.ylabel('age_dead_year')\n",
    "plt.title('Kmeans Clustering')\n",
    "plt.show()"
   ]
  },
  {
   "cell_type": "code",
   "execution_count": null,
   "id": "b682dfc7-eaae-4caa-acae-c309c07a9c51",
   "metadata": {},
   "outputs": [],
   "source": [
    "# Check answer\n",
    "print(\"Actual Answer: \\n\")\n",
    "q9_check()"
   ]
  },
  {
   "cell_type": "code",
   "execution_count": null,
   "id": "16717342-7abd-4c07-8ff5-31e16170c225",
   "metadata": {
    "tags": []
   },
   "outputs": [],
   "source": [
    "# view solution\n",
    "q9_solution()"
   ]
  },
  {
   "cell_type": "markdown",
   "id": "5fcb7fa4-0ef3-4bb3-b37a-d29c56f6d080",
   "metadata": {},
   "source": [
    "#### Task 10: View suitable number of cluster for KPrototypes using elbow method"
   ]
  },
  {
   "cell_type": "code",
   "execution_count": null,
   "id": "e051e78c-b0e5-4275-a214-7bc6dc9d87f7",
   "metadata": {
    "tags": []
   },
   "outputs": [],
   "source": [
    "# View suitable number of cluster in elbow for Kmeans (Execute it and have a look)\n",
    "selected_column_DATA_5 = DATA_5[['gender', 'age_first_contact_year', 'age_last_contact_year', 'age_diagnosis_year','age_dead_year']].copy()\n",
    "selected_column_DATA_5 = selected_column_DATA_5.iloc[:500]\n",
    "q10view_kmean_suitable_number_clusters(selected_column_DATA_5)"
   ]
  },
  {
   "cell_type": "markdown",
   "id": "a21ddba8-764d-4830-b781-e634eb4ac9f6",
   "metadata": {},
   "source": [
    "#### Task 11: KPrototypes for clustering "
   ]
  },
  {
   "cell_type": "markdown",
   "id": "7f2c9799-6018-4558-ae02-1f4a7d4b7296",
   "metadata": {},
   "source": [
    "Apply `KPrototypes()` clustering on the above `selected_column_DATA_5` dataframe that consist first 500 rows of the columns `gender`,`age_first_contact_year`, `age_last_contact_year`, `age_diagnosis_year`,`age_dead_year`. Then cluster them into 3 different clusters. Finally check the distribution in different cluster using `value_counts()`. And plot the clustring based on `age_first_contact_year` and `age_dead_year`\n",
    "\n",
    "Tips:\n",
    "1. Initialize a KPrototypes instance with 3 clusters and \"Cao\" initialization as `kproto`\n",
    "2. Fit and predict `kproto` with `selected_column_DATA_5` and save it as variable `cluster_assignments`\n",
    "3. Create a new column named as `Cluster` in `selected_column_DATA_5` dataframe containing obtained `cluster_assignments` or cluster labels\n",
    "4. View the distribution and plot (Already done for you)"
   ]
  },
  {
   "cell_type": "code",
   "execution_count": null,
   "id": "c88c237a-c408-47a0-b970-0c672ec107b8",
   "metadata": {
    "tags": []
   },
   "outputs": [],
   "source": [
    "## TODO: Your code goes here. Fill the missing lines (_________)\n",
    "\n",
    "# Initialize a KPrototypes instance with 3 clusters and \"Cao\" initialization as kproto\n",
    "_________\n",
    "\n",
    "# Fit and predict kmeans with selected_column_DATA_5 and save it as a variable cluster_assignments\n",
    "_________\n",
    "\n",
    "# Create a new column named as Cluster in selected_column_DATA_5 dataframe containing obtained cluster_assignments or cluster labels\n",
    "_________\n",
    "\n",
    "\n",
    "# View distribution and plot\n",
    "print(selected_column_DATA_5['Cluster'].value_counts())\n",
    "plt.scatter(selected_column_DATA_5['age_first_contact_year'], selected_column_DATA_5['age_dead_year'], c=selected_column_DATA_5['Cluster'], cmap='rainbow')\n",
    "plt.xlabel('age_first_contact_year')\n",
    "plt.ylabel('age_dead_year')\n",
    "plt.title('KPrototypes Clustering')\n",
    "plt.show()"
   ]
  },
  {
   "cell_type": "code",
   "execution_count": null,
   "id": "c649071f-86e7-494c-82b8-68377c988aca",
   "metadata": {},
   "outputs": [],
   "source": [
    "# Check answer\n",
    "print(\"Actual Answer: \\n\")\n",
    "q11_check()"
   ]
  },
  {
   "cell_type": "code",
   "execution_count": null,
   "id": "b957c88f-e18d-4722-9a97-a47f19ec056c",
   "metadata": {
    "tags": []
   },
   "outputs": [],
   "source": [
    "# view solution \n",
    "q11_solution()"
   ]
  },
  {
   "cell_type": "markdown",
   "id": "5a5898e1-9564-40d1-a2b6-fdfd4c924159",
   "metadata": {},
   "source": [
    "________________________________________________________________________________________________________________________________________________________________________________________________________________________________\n",
    "________________________________________________________________________________________________________________________________________________________________________________________________________________________________"
   ]
  },
  {
   "cell_type": "markdown",
   "id": "5eb6ab0a-da46-4915-a556-b06933863d2d",
   "metadata": {},
   "source": [
    "## Section D : Text Classification based on diagnosis codes (Natural Language Processing)"
   ]
  },
  {
   "cell_type": "markdown",
   "id": "d081824d-ed8e-42d5-9436-fbbca24e0ca5",
   "metadata": {},
   "source": [
    "### Task 12"
   ]
  },
  {
   "cell_type": "markdown",
   "id": "5e0bd112-540a-4376-994a-898ed05873be",
   "metadata": {},
   "source": [
    "Read and analyze the code below. And select the correct option to explain what the code below does on the newly copied `DATA_20`. Follow the sequential order\n",
    "1. Lowercase conversion --> Word Tokenization --> Stopword removal --> Stemming --> Joinnin the processed and stemmed words as a string \n",
    "2. Uppercase conversion --> Word Tokenization --> Stopword removal --> Stemming --> Joinnin the processed and stemmed words as a string \n",
    "3. Dataset Copy --> Stopword removal --> Word Tokenization --> Stemming --> Joinnin the processed and stemmed words as a string \n",
    "3. Dataset Copy --> Word Tokenization --> Stemming --> Stopword removal --> Joinnin the processed and stemmed words as a string "
   ]
  },
  {
   "cell_type": "code",
   "execution_count": null,
   "id": "edeeb803-5e37-4a8a-a3c3-93bc23bfc429",
   "metadata": {},
   "outputs": [],
   "source": [
    "## Execute this code and provide correct option as input (amoung above 1,2,3,4)\n",
    "\n",
    "DATA_20 = DATA_66.copy(deep=True)\n",
    "DATA_20['diagnosis_text'] = DATA_20['diagnosis_text'].apply(lambda x: x.lower())\n",
    "DATA_20['diagnosis_text'] = DATA_20['diagnosis_text'].apply(lambda x: word_tokenize(x))\n",
    "stop_words = set(stopwords.words('norwegian'))\n",
    "DATA_20['diagnosis_text'] = DATA_20['diagnosis_text'].apply(lambda x: [word for word in x if word.lower() not in stop_words])\n",
    "stemmer = SnowballStemmer('norwegian')\n",
    "DATA_20['diagnosis_text'] = DATA_20['diagnosis_text'].apply(lambda x: [stemmer.stem(word) for word in x])\n",
    "DATA_20['diagnosis_text'] = DATA_20['diagnosis_text'].apply(lambda x: ' '.join(x))\n",
    "\n",
    "# Provide the following input values for the independent variables\n",
    "answer = str(input('Enter your choice [1,2,3,4] = '))\n",
    "\n",
    "# Check your answer\n",
    "q12_check(answer)\n",
    "\n",
    "#view the Dataframe before preprocessing\n",
    "print(\"DataFrame Before Preprocessing\")\n",
    "display(DATA_66.tail(2).style.hide(axis='index'))\n",
    "#view the preprocessed Dataframe\n",
    "print(\"DataFrame After Preprocessing\")\n",
    "display(DATA_20.tail(2).style.hide(axis='index'))"
   ]
  },
  {
   "cell_type": "code",
   "execution_count": null,
   "id": "73db077a-6de9-43f4-970c-481db662e2da",
   "metadata": {},
   "outputs": [],
   "source": [
    "#view solution\n",
    "q12_solution()"
   ]
  },
  {
   "cell_type": "markdown",
   "id": "28f1aff3-1488-4861-8b6c-7d754227a4e3",
   "metadata": {},
   "source": [
    "### Task 13"
   ]
  },
  {
   "cell_type": "markdown",
   "id": "10ac6e5c-a6cd-47ba-b8d7-760e16d94df6",
   "metadata": {},
   "source": [
    "Apply `multinomial naive bayes` classifier to train the classifier on the vectorized text data and disply the obtained `accuracy` of the trained `classifier` on test data `X_test, y_test`.\n",
    "\n",
    "Tips: Use `MultinomialNB()` method"
   ]
  },
  {
   "cell_type": "code",
   "execution_count": null,
   "id": "e8c411f8-292b-4bad-9d65-2421098d56e9",
   "metadata": {},
   "outputs": [],
   "source": [
    "## TODO: Your code goes here. Fill the missing blanks (_________)\n",
    "\n",
    "# Select the features and output label\n",
    "X = DATA_20['diagnosis_text']\n",
    "y = DATA_20['diagnosis_code']\n",
    "\n",
    "# Vectorize the text data\n",
    "vectorizer = CountVectorizer()\n",
    "X = vectorizer.fit_transform(X)\n",
    "\n",
    "# Split the data into training and testing sets\n",
    "X_train, X_test, y_train, y_test = train_test_split(X, y, test_size=0.2)\n",
    "\n",
    "# Train the classifier\n",
    "classifier = _________()\n",
    "classifier.fit(X_train, y_train)\n",
    "\n",
    "# Evaluate the classifier\n",
    "accuracy = classifier.score(X_test, y_test)\n",
    "print(f'Accuracy: {accuracy}')\n",
    "acc = str(accuracy)\n",
    "\n",
    "# Check your answer\n",
    "q13_check(acc[:3])"
   ]
  },
  {
   "cell_type": "code",
   "execution_count": null,
   "id": "0f16ee34-bf30-4788-8e46-c645812f0595",
   "metadata": {},
   "outputs": [],
   "source": [
    "#view answer\n",
    "q13_solution()"
   ]
  },
  {
   "cell_type": "markdown",
   "id": "1ccc6f03-fa07-45d1-94e0-2a03b390bb43",
   "metadata": {},
   "source": [
    "### Task 14"
   ]
  },
  {
   "cell_type": "markdown",
   "id": "a233b56a-e956-4bca-8ab3-bc689d04772d",
   "metadata": {},
   "source": [
    "Read and analyze the code below and try to understand what is happening. Apply the `necessary missing method` for `predicting` the output based on provided user input `diagnosis_text` vectororized into `X_user`. Then provide `Uspesifisert aplastisk anemi` as input to the trained model `classifier` to check output"
   ]
  },
  {
   "cell_type": "code",
   "execution_count": null,
   "id": "e0915cca-bcaf-42c9-98df-54f37a6a556b",
   "metadata": {},
   "outputs": [],
   "source": [
    "## TODO: Your code goes here. Fill the missing blanks (_________)\n",
    "\n",
    "# Take user input for diagnosis_text\n",
    "diagnosis_text = input('Enter the diagnosis text (in Norwegian) i.e, Uspesifisert aplastisk anemi : ')\n",
    "\n",
    "# Vectorize the user input\n",
    "X_user = vectorizer.transform([diagnosis_text])\n",
    "\n",
    "# Predict the diagnosis_code on classifier model\n",
    "diagnosis_code = __________________.predict(X_user)\n",
    "\n",
    "# Print the predicted diagnosis_code\n",
    "print('The predicted diagnosis code for is:', diagnosis_code[0])\n",
    "\n",
    "# Check your answer\n",
    "q14_check(diagnosis_code[0])"
   ]
  },
  {
   "cell_type": "code",
   "execution_count": null,
   "id": "9794f768-07b9-4d27-a0b9-4820481094ba",
   "metadata": {},
   "outputs": [],
   "source": [
    "#view solution\n",
    "q14_solution()"
   ]
  },
  {
   "cell_type": "markdown",
   "id": "7a1a6cf3-7528-4416-b9c4-314b310ab2e8",
   "metadata": {},
   "source": [
    "### Task 15"
   ]
  },
  {
   "cell_type": "markdown",
   "id": "25679f88-673f-4e7e-b73f-7005706ae34b",
   "metadata": {},
   "source": [
    "Read and analyze the code below and try to understand what is happening. Apply the `necessary missing method` to vectorize the user input. Then provide `ikke-reumatisk aortainsuffisi` as input to the trained model `classifier` to check output"
   ]
  },
  {
   "cell_type": "code",
   "execution_count": null,
   "id": "357ce16c-257b-455b-b6d7-fff14b321927",
   "metadata": {},
   "outputs": [],
   "source": [
    "## TODO: Your code goes here. Fill the missing blanks (_________)\n",
    "\n",
    "# Take user input for diagnosis_text\n",
    "diagnosis_text = input('Enter the diagnosis text (in Norwegian): ikke-reumatisk aortainsuffisi ')\n",
    "\n",
    "# Vectorize the user input\n",
    "X_user = vectorizer._________([diagnosis_text])\n",
    "\n",
    "# Predict the diagnosis_code\n",
    "diagnosis_code = classifier.predict(X_user)\n",
    "\n",
    "# Print the predicted diagnosis_code\n",
    "print('The predicted diagnosis code', diagnosis_code[0])\n",
    "\n",
    "# Check your answer\n",
    "q15_check(diagnosis_code[0])"
   ]
  },
  {
   "cell_type": "code",
   "execution_count": null,
   "id": "cdc8ac48-bc76-45ad-9c43-bc26d6821d6a",
   "metadata": {},
   "outputs": [],
   "source": [
    "#view solution\n",
    "q15_solution()"
   ]
  }
 ],
 "metadata": {
  "kernelspec": {
   "display_name": "Python [conda env:.conda-helse_env]",
   "language": "python",
   "name": "conda-env-.conda-helse_env-py"
  },
  "language_info": {
   "codemirror_mode": {
    "name": "ipython",
    "version": 3
   },
   "file_extension": ".py",
   "mimetype": "text/x-python",
   "name": "python",
   "nbconvert_exporter": "python",
   "pygments_lexer": "ipython3",
   "version": "3.10.12"
  }
 },
 "nbformat": 4,
 "nbformat_minor": 5
}
