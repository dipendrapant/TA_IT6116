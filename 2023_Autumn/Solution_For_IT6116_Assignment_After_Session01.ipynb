{
 "cells": [
  {
   "cell_type": "code",
   "execution_count": null,
   "id": "cf3cbeaf-8159-4161-b825-d4006c126e24",
   "metadata": {
    "tags": []
   },
   "outputs": [],
   "source": [
    "############################################################\n",
    "# Setup Code (Run this cell before doing the task below)   #\n",
    "############################################################\n",
    "from pandas.testing import assert_frame_equal, assert_series_equal\n",
    "import pandas as pd\n",
    "import numpy as np\n",
    "from sklearn.preprocessing import LabelEncoder\n",
    "from sklearn.feature_extraction.text import CountVectorizer\n",
    "import matplotlib.pyplot as plt\n",
    "from sklearn.cluster import KMeans\n",
    "from IPython.display import display\n",
    "import warnings\n",
    "warnings.filterwarnings\n",
    "\n",
    "# A DataFrame with the original data.\n",
    "DATA_0 = pd.read_csv(\"/mnt/work/workbench/dipendrp/data/TilNTNU.csv\", sep=\";\")\n",
    "\n",
    "def get_renamed_data() -> pd.DataFrame:\n",
    "    data = DATA_0.copy(deep=True)\n",
    "    renamed = data.rename(\n",
    "        columns={\n",
    "            \"Løpenummer\": \"id\",\n",
    "            \"Kjønn\": \"gender\",\n",
    "            \"Diagnosekode\": \"diagnosis_code\",\n",
    "            \"Diagnosetekst\": \"diagnosis_text\",\n",
    "            \"Alder_førstekontakt_dager\": \"age_first_contact_days\",\n",
    "            \"Alder_sistekontakt_dager\": \"age_last_contact_days\",\n",
    "            \"Alder_diagnose_dager\": \"age_diagnosis_days\",\n",
    "            \"Alder_død_dager\": \"age_dead_days\",\n",
    "            \"Alder_diagnose_aar\": \"age_diagnosis_year\",\n",
    "            \"Alder_aar_førstekontakt\": \"age_first_contact_year\",\n",
    "            \"Alder_aar_sistekontakt\": \"age_last_contact_year\",\n",
    "            \"Alder_aar_død\": \"age_dead_year\",\n",
    "        })\n",
    "    return renamed\n",
    "\n",
    "DATA_1 = get_renamed_data()\n",
    "\n",
    "\n",
    "def is_empty_str(text: str) -> bool:\n",
    "    if not isinstance(text, str):\n",
    "        return False\n",
    "    return text.strip() == \"\"\n",
    "\n",
    "\n",
    "def get_na_converted_data() -> pd.DataFrame:\n",
    "    na_converted_df = DATA_1.copy(deep=True)\n",
    "    for col in DATA_1.columns:\n",
    "        rows_with_na = DATA_1.loc[:, col].apply(is_empty_str)\n",
    "        if sum(rows_with_na):\n",
    "            na_converted_df.loc[rows_with_na, col] = np.nan\n",
    "    return na_converted_df\n",
    "\n",
    "DATA_2 = get_na_converted_data()\n",
    "\n",
    "\n",
    "def get_formatted_data() -> pd.DataFrame:\n",
    "    formatted_df = DATA_2.copy(deep=True)\n",
    "    # Gender\n",
    "    formatted_df[\"gender\"] = formatted_df[\"gender\"].replace(\n",
    "        \"M\", \"male\")\n",
    "    formatted_df[\"gender\"] = formatted_df[\"gender\"].replace(\n",
    "        \"K\", \"female\")\n",
    "    formatted_df[\"gender\"] = formatted_df[\"gender\"].astype(\n",
    "        \"category\")\n",
    "    # Diagnosis Code and Diagnosis Text\n",
    "    for col in (\"diagnosis_code\", \"diagnosis_text\"):\n",
    "        formatted_df[col] = formatted_df[col].astype(\"string\")\n",
    "\n",
    "    # From column four to the end, which all contain integers\n",
    "    for col in formatted_df.iloc[:, 4:].columns:\n",
    "        formatted_df[col] = formatted_df[col].astype(\"Float32\").astype(\"Int32\")\n",
    "\n",
    "    return formatted_df\n",
    "\n",
    "DATA_3 = get_formatted_data()\n",
    "DATA_4 = DATA_3.dropna(axis=0)\n",
    "\n",
    "dummpy_DATA = pd.DataFrame({\n",
    "    \"happiness_level\": [\"Happy\", \"Happy\", \"Neutral\", \"Unhappy\", \"Unhappy\"],\n",
    "    \"occupation\": [\"Engineer\", \"Engineer\", \"Student\", \"Nurse\", \"Student\"],\n",
    "    \"number_of_childrens\": [2, 0, 1, 3, 4]\n",
    "})\n",
    "\n",
    "print(\"Setup complete.\")"
   ]
  },
  {
   "cell_type": "markdown",
   "id": "70309c45-a8ea-48e6-ad1c-4b7fee66c494",
   "metadata": {},
   "source": [
    "<hr>\n",
    "<hr>"
   ]
  },
  {
   "cell_type": "markdown",
   "id": "fafa9456-54b0-4051-a63b-4d779f3fb89d",
   "metadata": {},
   "source": [
    "**Note: Before doing the tasks below run the above setup cell script**"
   ]
  },
  {
   "cell_type": "markdown",
   "id": "2e89c78d-ee60-430b-8128-724a06bdde66",
   "metadata": {
    "tags": []
   },
   "source": [
    "<hr>\n",
    "<hr>"
   ]
  },
  {
   "cell_type": "markdown",
   "id": "cf578b88-07a8-40f5-848f-4a1430158f88",
   "metadata": {},
   "source": [
    "### Task 1 Solution **Basic Python**\n",
    "\n",
    "Write a script to print the number of missing value in `diagnosis_code` column of `DATA_1`?. \n"
   ]
  },
  {
   "cell_type": "code",
   "execution_count": null,
   "id": "fde164f6-8872-46bc-bb01-1e1db3313c2e",
   "metadata": {
    "tags": []
   },
   "outputs": [],
   "source": [
    "# TODO: Your code goes here.\n",
    "DATA_1[['diagnosis_code']].isna().sum()"
   ]
  },
  {
   "cell_type": "markdown",
   "id": "f6e2431a-574e-427b-96ff-bfdbf649ac15",
   "metadata": {},
   "source": [
    "### Task 2 Solution **Understanding the DataFrame and Dataset**\n",
    "\n",
    "Question: Describe the DataFrame by performing the following task \n",
    "1. View the first 5 rows of the dataframe `DATA_4`\n",
    "2. Find the number of rows , column and names of the columns in the dataframe `DATA_4`\n",
    "3. Find out categorical and contineous columns in the dataframe `DATA_4`\n",
    "4. Compute mean, median and mode of contineous column `age_last_contact_year` in the dataframe `DATA_4`\n",
    "5. Compute the frequency distribution of `gender` column in the dataframe `DATA_4`"
   ]
  },
  {
   "cell_type": "code",
   "execution_count": null,
   "id": "cb53faa4-236d-47d2-81e4-5beca4402e43",
   "metadata": {
    "tags": []
   },
   "outputs": [],
   "source": [
    "# TODO: Your code goes here.\n",
    "\n",
    "# 1. View the first 5 rows of the dataframe `DATA_4`\n",
    "display(DATA_4.head(4))\n",
    "\n",
    "# 2. How to find the number of rows , column and names of the columns in the dataframe `DATA_4`\n",
    "print(f\"\\n Rows:{len(DATA_4.index)}, column:{len(DATA_4.columns)}, Column names:{DATA_4.columns}\")\n",
    "\n",
    "# 3. How will you find out categorical and contineous columns in the dataframe `DATA_4`\n",
    "print(DATA_4.dtypes)\n",
    "\n",
    "# 4. Compute mean, median and mode of contineous column `age_last_contact_year` in the dataframe `DATA_4`\n",
    "print(f\"\\n Mean:{DATA_4[['age_last_contact_year']].mean()}, Median: {DATA_4[['age_last_contact_year']].median()}, Mode: {DATA_4[['age_last_contact_year']].mode()}\")\n",
    "\n",
    "# 5. Compute the frequency distribution of `gender` column in the dataframe `DATA_4`\n",
    "print(f\"\\n {DATA_4[['gender']].value_counts()}\")"
   ]
  },
  {
   "cell_type": "markdown",
   "id": "b1eb1817-0ead-4df4-8950-d8a29eb3dd8d",
   "metadata": {},
   "source": [
    "### Task 3 Solution **Understanding the DataFrame**\n",
    "\n",
    "Question: Find the total count of unique ICD codes from the `diagnosis_code` column in `DATA_4` dataframe."
   ]
  },
  {
   "cell_type": "code",
   "execution_count": null,
   "id": "a2addfa9-4843-4148-82bb-f7a05f5ff43a",
   "metadata": {},
   "outputs": [],
   "source": [
    "# TODO: Your code goes here.\n",
    "print(len(DATA_4['diagnosis_code'].unique()))"
   ]
  },
  {
   "cell_type": "markdown",
   "id": "52359bc9-9739-421e-b8e4-1aeb245b1489",
   "metadata": {},
   "source": [
    "### Task 4 Solution **Encoding DataFrame**\n",
    "\n",
    "Question: Apply One Hot Encoding on the `dummpy_DATA` dataframe and display it after one hot encoding. Original `dummpy_DATA` is shown below\n",
    "Also analyze the difference before applying one hot and after, by yourself"
   ]
  },
  {
   "cell_type": "code",
   "execution_count": null,
   "id": "a4300b7d-6c41-4170-9987-51630eb3d70c",
   "metadata": {},
   "outputs": [],
   "source": [
    "# TODO: Your code goes here.\n",
    "\n",
    "class OneHotEncoding:\n",
    "    def __init__(self,dummpy_DATA):\n",
    "        self.DATA_4_Gender_DiagnosisCode = dummpy_DATA\n",
    "        \n",
    "    def displayOriginal(self):\n",
    "        display(dummpy_DATA)\n",
    "    \n",
    "    def displayOnehotencoded(self):\n",
    "        encoded_dummpy_DATA = pd.get_dummies(dummpy_DATA,dtype=int)\n",
    "        display(encoded_dummpy_DATA)\n",
    "    \n",
    "obj_OneHotEncoding = OneHotEncoding(dummpy_DATA)\n",
    "print(\"Before One Hot Encoding:\")\n",
    "obj_OneHotEncoding.displayOriginal()\n",
    "print(\"\\n Aftre One Hot Encoding:\")\n",
    "obj_OneHotEncoding.displayOnehotencoded()"
   ]
  },
  {
   "cell_type": "code",
   "execution_count": null,
   "id": "41076839-ade4-4b6d-bf84-c727fd9ac42e",
   "metadata": {
    "tags": []
   },
   "outputs": [],
   "source": [
    "# Task 2 Answer\n",
    "original_task3_df = pd.DataFrame({'number_of_childrens':[2,0,1,3,4],\n",
    "                                  'happiness_level_Happy':[1,1,0,0,0],\n",
    "                                  'happiness_level_Neutral':[0,0,1,0,0],\n",
    "                                  'happiness_level_Unhappy':[0,0,0,1,1],\n",
    "                                  'occupation_Engineer':[1,1,0,0,0],\n",
    "                                  'occupation_Nurse':[0,0,0,1,0],\n",
    "                                  'occupation_Nurse':[0,0,1,0,1]\n",
    "                                 })\n",
    "\n",
    "original_task3_df"
   ]
  },
  {
   "cell_type": "markdown",
   "id": "408d0e83-35b2-499d-94c6-e571be08a830",
   "metadata": {},
   "source": [
    "## Task 5 Solution **Encoding DataFrame**\n",
    "\n",
    "\n",
    "Question: Apply Label encoding on the `dummpy_DATA` dataframe and display it after Label encoding. Original `dummpy_DATA` is shown below\n",
    "Also analyze the difference before applying Label encoding and after, by yourself"
   ]
  },
  {
   "cell_type": "code",
   "execution_count": null,
   "id": "2947fe9f-d57e-4a5f-8934-8ee8103f7c1f",
   "metadata": {},
   "outputs": [],
   "source": [
    "# TODO: Your code goes here.\n",
    "\n",
    "class LabelEncoding:\n",
    "    def __init__(self,dummpy_DATA):\n",
    "        self.dummpy_DATA = dummpy_DATA\n",
    "        \n",
    "    def displayOriginal(self):\n",
    "        display(dummpy_DATA)\n",
    "    \n",
    "    def displayLabelencoded(self):\n",
    "        # Instantiate a LabelEncoder object\n",
    "        le = LabelEncoder()\n",
    "        # Loop through the categorical columns and apply label encoding\n",
    "        for col in dummpy_DATA.columns:\n",
    "            dummpy_DATA[col] = le.fit_transform(dummpy_DATA[col])\n",
    "        # Display the encoded DataFrame\n",
    "        display(dummpy_DATA)\n",
    "    \n",
    "obj_LabelEncoding = LabelEncoding(dummpy_DATA)\n",
    "obj_LabelEncoding.displayOriginal()\n",
    "obj_LabelEncoding.displayLabelencoded()\n"
   ]
  },
  {
   "cell_type": "markdown",
   "id": "3e19c5d4-511a-4079-bdd6-e2b700522169",
   "metadata": {},
   "source": [
    "### Task 6 Solution **Understanding the DataFrame**\n",
    "Find the total number of rows with the `diagnosis_code` `C06` which is `Ondartet svulst i andre og uspesifiserte deler av munn (neoplasma malignum partis alterius et non specificatae oris)` in `DATA_4` DataFrame."
   ]
  },
  {
   "cell_type": "code",
   "execution_count": null,
   "id": "be046f15-17b6-4452-9121-ebb4f6efe863",
   "metadata": {},
   "outputs": [],
   "source": [
    "# TODO: Your code goes here.\n",
    "print(len(DATA_4[DATA_4['diagnosis_code'].str.startswith('C06')]))"
   ]
  },
  {
   "cell_type": "markdown",
   "id": "0e3b034d-6316-4798-8d0b-fb15efb3d424",
   "metadata": {
    "tags": []
   },
   "source": [
    "### Task 7 Solution **Understanding the DataFrame**\n",
    "List all the unique `id` of patients with the `diagnosis_code` `F067` which is ICD code for disease `Lett organisk kognitiv lidelse`, in `DATA_4` DataFrame. And display them."
   ]
  },
  {
   "cell_type": "code",
   "execution_count": null,
   "id": "25e03a43-7761-42a9-81a6-7f2fbcfa9ce2",
   "metadata": {
    "tags": []
   },
   "outputs": [],
   "source": [
    "C06_df = DATA_4[DATA_4['diagnosis_code'].str.startswith('F067')]\n",
    "print(C06_df['id'].unique())"
   ]
  },
  {
   "cell_type": "markdown",
   "id": "82f990c7-5d2c-4f6c-965a-941cbe5a3462",
   "metadata": {},
   "source": [
    "### Task 8 Solution **Plot and visualization**\n",
    "Fill the missing code to, create a scatter plot using matplotlib to show `age_first_contact_year` vs `age_last_contact_year` for the data in the `DATA_4` DataFrame corresponding to 2 ICD codes or `diagnosis_code` `F102` and `F011`. In this plot, each point will be colored based on the ICD code or diagnosis_code (i.e., `F102` is `red` and `F011` is `green`).\n",
    "\n",
    "Tips: Read the comment also for reference"
   ]
  },
  {
   "cell_type": "code",
   "execution_count": null,
   "id": "51ca7c3c-af97-4c0b-80ee-04d5f28adb15",
   "metadata": {},
   "outputs": [],
   "source": [
    "# TODO: Your code goes here.\n",
    "# Select data based on the 2 ICD codes\n",
    "selected_df = DATA_4.loc[DATA_4[\"diagnosis_code\"].isin([\"F102\", \"F011\"])]\n",
    "\n",
    "# Create a scatter plot with different colors based on the ICD code\n",
    "colors = {'F102': 'red', 'F011': 'green'}\n",
    "\n",
    "#Create a scatter plot, by filling in df_icd\n",
    "fig, ax = plt.subplots()\n",
    "for icd_code, color in colors.items():\n",
    "    #df_icd should be the dataframe containing the ICD code or `diagnosis_code` in colors set above\n",
    "    df_icd = selected_df[selected_df[\"diagnosis_code\"] == icd_code]\n",
    "    ax.scatter(df_icd[\"age_first_contact_year\"], df_icd[\"age_last_contact_year\"], c=color, label=icd_code)\n",
    "\n",
    "# Assign legend and labels\n",
    "ax.legend()\n",
    "plt.xlabel(\"Age first contact year\")\n",
    "plt.ylabel(\"Age last contact year\")\n",
    "\n",
    "# Display the plot\n",
    "plt.show()\n"
   ]
  },
  {
   "cell_type": "markdown",
   "id": "ab57a29c-e833-4aed-b3bd-ab440692cb14",
   "metadata": {},
   "source": [
    "### Task 9 **Plot and visualization**\n",
    "\n",
    "Instruction for doing `Task 9` question : \n",
    "\n",
    "In the code and output below we have idetified the most frequent patient `id` in `DATA_4` then displayed what disease have been that patient diagnosed with using `diagnosis_code` column of dataframe. \n",
    "And finally plott each `diagnosis_code` with respect to `age_first_contact_days\tage_last_contact_days\tage_diagnosis_days\tage_dead_days` in a line plot to understand what what disease the patient was diagnosed earlier and what were diagnosed later, and also his overall journey from `age_first_contact_days` to till `age_dead_days`."
   ]
  },
  {
   "cell_type": "code",
   "execution_count": null,
   "id": "63e4b586-c00b-46eb-9230-4edf2513f615",
   "metadata": {
    "tags": []
   },
   "outputs": [],
   "source": [
    "print(DATA_4['id'].value_counts())\n",
    "most_frequent_id_df = DATA_4[DATA_4['id'] == 78]\n",
    "print(f\"\\n Diagnosed Disease in Patient 78 : {most_frequent_id_df['diagnosis_code'].unique()} \")\n",
    "\n",
    "most_frequent_id_df.plot(kind='line', x='diagnosis_code', y=['age_first_contact_days','age_diagnosis_days','age_last_contact_days','age_dead_days'], figsize=(15,8))\n",
    "plt.xlabel(\"Diagnosed Diseases\")\n",
    "plt.ylabel(\"Days\")\n",
    "plt.title(\"\\n Plot showing patient 78 journey from age_first_contact_days to till age_dead_days (Also more inference can be generated from varying age_diagnosis_days)\")\n",
    "plt.grid()\n",
    "plt.show()"
   ]
  }
 ],
 "metadata": {
  "kernelspec": {
   "display_name": "Python [conda env:.conda-helse_env]",
   "language": "python",
   "name": "conda-env-.conda-helse_env-py"
  },
  "language_info": {
   "codemirror_mode": {
    "name": "ipython",
    "version": 3
   },
   "file_extension": ".py",
   "mimetype": "text/x-python",
   "name": "python",
   "nbconvert_exporter": "python",
   "pygments_lexer": "ipython3",
   "version": "3.10.12"
  }
 },
 "nbformat": 4,
 "nbformat_minor": 5
}
